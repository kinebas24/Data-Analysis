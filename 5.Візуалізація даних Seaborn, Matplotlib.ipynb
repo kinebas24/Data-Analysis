{
 "cells": [
  {
   "cell_type": "markdown",
   "id": "cb15f7e9",
   "metadata": {},
   "source": [
    "# Візуалізація даних."
   ]
  },
  {
   "cell_type": "code",
   "execution_count": 2,
   "id": "96487a9a",
   "metadata": {
    "ExecuteTime": {
     "end_time": "2023-01-06T18:37:26.265463Z",
     "start_time": "2023-01-06T18:36:45.673291Z"
    }
   },
   "outputs": [],
   "source": [
    "import seaborn as sns\n",
    "import pandas as pd\n",
    "from matplotlib import pyplot as plt\n"
   ]
  },
  {
   "cell_type": "markdown",
   "id": "5fdcd79e",
   "metadata": {},
   "source": [
    "## Набір даних Taxis"
   ]
  },
  {
   "cell_type": "markdown",
   "id": "6bc659c8",
   "metadata": {},
   "source": [
    "Використовуючи метод з бібліотеки `seaborn` `load_dataset` ми завантажимо перший набір даних для аналізу. \n",
    "Набір даних містить поїздки таксі у Нью Йорку у 2019 році. Детальний опис на [сайті](https://www.nyc.gov/site/tlc/about/tlc-trip-record-data.page).  \n",
    "\n",
    "Які колонки мість набір даних:  \n",
    "- `pickup` - час початку поїздки  \n",
    "- `dropoff` - час закінчення поїздки  \n",
    "- `passengers` - кількість пасажирів у поїздці  \n",
    "- `distance` - відстань поіздки  \n",
    "- `fare` - базова плата за поїздку  \n",
    "- `tip` - розмір чайових  \n",
    "- `tolls` - плата за платні дороги (за це також платить пасажир)  \n",
    "- `total` - сумарна плата за поїздку  \n",
    "- `color` - колір авто, яке здійснювало поїздку  \n",
    "- `payment` - метод оплати  \n",
    "- `pickup_zone` - зона, у якій почалась поїздка  \n",
    "- `dropoff_zone` - зона, у якій закінчилась поїздка  \n",
    "- `pickup_borough` - район, у якому почалась поїздка  \n",
    "- `dropoff_borough` - район, у якому закінчилась поїздка  \n"
   ]
  },
  {
   "cell_type": "code",
   "execution_count": 3,
   "id": "ea306430",
   "metadata": {
    "ExecuteTime": {
     "end_time": "2023-01-06T18:37:27.238560Z",
     "start_time": "2023-01-06T18:37:26.276453Z"
    }
   },
   "outputs": [],
   "source": [
    "df_taxi = sns.load_dataset('taxis')"
   ]
  },
  {
   "cell_type": "markdown",
   "id": "0d6b65ae",
   "metadata": {},
   "source": [
    "1.Виведено\n",
    "- перші 3 записи з набору даних\n",
    "- типи даних в наборі даних df_taxi\n",
    "- розміри набору даних"
   ]
  },
  {
   "cell_type": "code",
   "execution_count": 6,
   "id": "8ffe7ba2",
   "metadata": {
    "ExecuteTime": {
     "end_time": "2022-11-25T11:21:43.567288Z",
     "start_time": "2022-11-25T11:21:43.426655Z"
    }
   },
   "outputs": [
    {
     "data": {
      "text/html": [
       "<div>\n",
       "<style scoped>\n",
       "    .dataframe tbody tr th:only-of-type {\n",
       "        vertical-align: middle;\n",
       "    }\n",
       "\n",
       "    .dataframe tbody tr th {\n",
       "        vertical-align: top;\n",
       "    }\n",
       "\n",
       "    .dataframe thead th {\n",
       "        text-align: right;\n",
       "    }\n",
       "</style>\n",
       "<table border=\"1\" class=\"dataframe\">\n",
       "  <thead>\n",
       "    <tr style=\"text-align: right;\">\n",
       "      <th></th>\n",
       "      <th>pickup</th>\n",
       "      <th>dropoff</th>\n",
       "      <th>passengers</th>\n",
       "      <th>distance</th>\n",
       "      <th>fare</th>\n",
       "      <th>tip</th>\n",
       "      <th>tolls</th>\n",
       "      <th>total</th>\n",
       "      <th>color</th>\n",
       "      <th>payment</th>\n",
       "      <th>pickup_zone</th>\n",
       "      <th>dropoff_zone</th>\n",
       "      <th>pickup_borough</th>\n",
       "      <th>dropoff_borough</th>\n",
       "    </tr>\n",
       "  </thead>\n",
       "  <tbody>\n",
       "    <tr>\n",
       "      <th>0</th>\n",
       "      <td>2019-03-23 20:21:09</td>\n",
       "      <td>2019-03-23 20:27:24</td>\n",
       "      <td>1</td>\n",
       "      <td>1.60</td>\n",
       "      <td>7.0</td>\n",
       "      <td>2.15</td>\n",
       "      <td>0.0</td>\n",
       "      <td>12.95</td>\n",
       "      <td>yellow</td>\n",
       "      <td>credit card</td>\n",
       "      <td>Lenox Hill West</td>\n",
       "      <td>UN/Turtle Bay South</td>\n",
       "      <td>Manhattan</td>\n",
       "      <td>Manhattan</td>\n",
       "    </tr>\n",
       "    <tr>\n",
       "      <th>1</th>\n",
       "      <td>2019-03-04 16:11:55</td>\n",
       "      <td>2019-03-04 16:19:00</td>\n",
       "      <td>1</td>\n",
       "      <td>0.79</td>\n",
       "      <td>5.0</td>\n",
       "      <td>0.00</td>\n",
       "      <td>0.0</td>\n",
       "      <td>9.30</td>\n",
       "      <td>yellow</td>\n",
       "      <td>cash</td>\n",
       "      <td>Upper West Side South</td>\n",
       "      <td>Upper West Side South</td>\n",
       "      <td>Manhattan</td>\n",
       "      <td>Manhattan</td>\n",
       "    </tr>\n",
       "    <tr>\n",
       "      <th>2</th>\n",
       "      <td>2019-03-27 17:53:01</td>\n",
       "      <td>2019-03-27 18:00:25</td>\n",
       "      <td>1</td>\n",
       "      <td>1.37</td>\n",
       "      <td>7.5</td>\n",
       "      <td>2.36</td>\n",
       "      <td>0.0</td>\n",
       "      <td>14.16</td>\n",
       "      <td>yellow</td>\n",
       "      <td>credit card</td>\n",
       "      <td>Alphabet City</td>\n",
       "      <td>West Village</td>\n",
       "      <td>Manhattan</td>\n",
       "      <td>Manhattan</td>\n",
       "    </tr>\n",
       "  </tbody>\n",
       "</table>\n",
       "</div>"
      ],
      "text/plain": [
       "                pickup              dropoff  passengers  distance  fare   tip  \\\n",
       "0  2019-03-23 20:21:09  2019-03-23 20:27:24           1      1.60   7.0  2.15   \n",
       "1  2019-03-04 16:11:55  2019-03-04 16:19:00           1      0.79   5.0  0.00   \n",
       "2  2019-03-27 17:53:01  2019-03-27 18:00:25           1      1.37   7.5  2.36   \n",
       "\n",
       "   tolls  total   color      payment            pickup_zone  \\\n",
       "0    0.0  12.95  yellow  credit card        Lenox Hill West   \n",
       "1    0.0   9.30  yellow         cash  Upper West Side South   \n",
       "2    0.0  14.16  yellow  credit card          Alphabet City   \n",
       "\n",
       "            dropoff_zone pickup_borough dropoff_borough  \n",
       "0    UN/Turtle Bay South      Manhattan       Manhattan  \n",
       "1  Upper West Side South      Manhattan       Manhattan  \n",
       "2           West Village      Manhattan       Manhattan  "
      ]
     },
     "metadata": {},
     "output_type": "display_data"
    },
    {
     "data": {
      "text/plain": [
       "pickup              object\n",
       "dropoff             object\n",
       "passengers           int64\n",
       "distance           float64\n",
       "fare               float64\n",
       "tip                float64\n",
       "tolls              float64\n",
       "total              float64\n",
       "color               object\n",
       "payment             object\n",
       "pickup_zone         object\n",
       "dropoff_zone        object\n",
       "pickup_borough      object\n",
       "dropoff_borough     object\n",
       "dtype: object"
      ]
     },
     "metadata": {},
     "output_type": "display_data"
    },
    {
     "data": {
      "text/plain": [
       "(6433, 14)"
      ]
     },
     "metadata": {},
     "output_type": "display_data"
    }
   ],
   "source": [
    "display(df_taxi.head(3))\n",
    "display(df_taxi.dtypes)\n",
    "display(df_taxi.shape)\n"
   ]
  },
  {
   "cell_type": "markdown",
   "id": "7fe22cd6",
   "metadata": {},
   "source": [
    "2.Перевіримо, чи є в цьому наборі даних пропущені значення. "
   ]
  },
  {
   "cell_type": "code",
   "execution_count": 7,
   "id": "fcf4a236",
   "metadata": {
    "ExecuteTime": {
     "end_time": "2022-11-25T11:21:43.739173Z",
     "start_time": "2022-11-25T11:21:43.692300Z"
    }
   },
   "outputs": [
    {
     "data": {
      "text/plain": [
       "pickup              0\n",
       "dropoff             0\n",
       "passengers          0\n",
       "distance            0\n",
       "fare                0\n",
       "tip                 0\n",
       "tolls               0\n",
       "total               0\n",
       "color               0\n",
       "payment            44\n",
       "pickup_zone        26\n",
       "dropoff_zone       45\n",
       "pickup_borough     26\n",
       "dropoff_borough    45\n",
       "dtype: int64"
      ]
     },
     "execution_count": 7,
     "metadata": {},
     "output_type": "execute_result"
    }
   ],
   "source": [
    "df_taxi.isna().sum()"
   ]
  },
  {
   "cell_type": "code",
   "execution_count": 8,
   "id": "71d26e9f",
   "metadata": {
    "ExecuteTime": {
     "end_time": "2022-11-25T11:21:43.911060Z",
     "start_time": "2022-11-25T11:21:43.801676Z"
    }
   },
   "outputs": [
    {
     "data": {
      "text/html": [
       "<div>\n",
       "<style scoped>\n",
       "    .dataframe tbody tr th:only-of-type {\n",
       "        vertical-align: middle;\n",
       "    }\n",
       "\n",
       "    .dataframe tbody tr th {\n",
       "        vertical-align: top;\n",
       "    }\n",
       "\n",
       "    .dataframe thead th {\n",
       "        text-align: right;\n",
       "    }\n",
       "</style>\n",
       "<table border=\"1\" class=\"dataframe\">\n",
       "  <thead>\n",
       "    <tr style=\"text-align: right;\">\n",
       "      <th></th>\n",
       "      <th>pickup</th>\n",
       "      <th>dropoff</th>\n",
       "      <th>passengers</th>\n",
       "      <th>duration</th>\n",
       "      <th>distance</th>\n",
       "      <th>fare</th>\n",
       "      <th>tip</th>\n",
       "      <th>tolls</th>\n",
       "      <th>total</th>\n",
       "      <th>color</th>\n",
       "      <th>payment</th>\n",
       "      <th>pickup_zone</th>\n",
       "      <th>dropoff_zone</th>\n",
       "      <th>pickup_borough</th>\n",
       "      <th>dropoff_borough</th>\n",
       "    </tr>\n",
       "  </thead>\n",
       "  <tbody>\n",
       "    <tr>\n",
       "      <th>42</th>\n",
       "      <td>2019-03-30 23:59:14</td>\n",
       "      <td>2019-03-30 23:59:17</td>\n",
       "      <td>1</td>\n",
       "      <td>0 days 00:00:03</td>\n",
       "      <td>0.00</td>\n",
       "      <td>80.0</td>\n",
       "      <td>20.08</td>\n",
       "      <td>0.00</td>\n",
       "      <td>100.38</td>\n",
       "      <td>yellow</td>\n",
       "      <td>credit card</td>\n",
       "      <td>NaN</td>\n",
       "      <td>NaN</td>\n",
       "      <td>NaN</td>\n",
       "      <td>NaN</td>\n",
       "    </tr>\n",
       "    <tr>\n",
       "      <th>622</th>\n",
       "      <td>2019-03-12 19:52:36</td>\n",
       "      <td>2019-03-12 19:52:55</td>\n",
       "      <td>3</td>\n",
       "      <td>0 days 00:00:19</td>\n",
       "      <td>0.00</td>\n",
       "      <td>120.0</td>\n",
       "      <td>33.20</td>\n",
       "      <td>12.50</td>\n",
       "      <td>166.00</td>\n",
       "      <td>yellow</td>\n",
       "      <td>credit card</td>\n",
       "      <td>NaN</td>\n",
       "      <td>NaN</td>\n",
       "      <td>NaN</td>\n",
       "      <td>NaN</td>\n",
       "    </tr>\n",
       "    <tr>\n",
       "      <th>711</th>\n",
       "      <td>2019-03-21 17:39:50</td>\n",
       "      <td>2019-03-21 18:12:54</td>\n",
       "      <td>2</td>\n",
       "      <td>0 days 00:33:04</td>\n",
       "      <td>1.74</td>\n",
       "      <td>17.0</td>\n",
       "      <td>4.26</td>\n",
       "      <td>0.00</td>\n",
       "      <td>25.56</td>\n",
       "      <td>yellow</td>\n",
       "      <td>credit card</td>\n",
       "      <td>Midtown East</td>\n",
       "      <td>NaN</td>\n",
       "      <td>Manhattan</td>\n",
       "      <td>NaN</td>\n",
       "    </tr>\n",
       "    <tr>\n",
       "      <th>739</th>\n",
       "      <td>2019-03-14 00:09:17</td>\n",
       "      <td>2019-03-14 00:09:21</td>\n",
       "      <td>1</td>\n",
       "      <td>0 days 00:00:04</td>\n",
       "      <td>0.03</td>\n",
       "      <td>2.5</td>\n",
       "      <td>0.00</td>\n",
       "      <td>0.00</td>\n",
       "      <td>3.80</td>\n",
       "      <td>yellow</td>\n",
       "      <td>cash</td>\n",
       "      <td>Upper East Side South</td>\n",
       "      <td>NaN</td>\n",
       "      <td>Manhattan</td>\n",
       "      <td>NaN</td>\n",
       "    </tr>\n",
       "    <tr>\n",
       "      <th>970</th>\n",
       "      <td>2019-03-29 00:02:00</td>\n",
       "      <td>2019-03-29 00:02:05</td>\n",
       "      <td>2</td>\n",
       "      <td>0 days 00:00:05</td>\n",
       "      <td>0.00</td>\n",
       "      <td>45.0</td>\n",
       "      <td>5.00</td>\n",
       "      <td>0.00</td>\n",
       "      <td>50.30</td>\n",
       "      <td>yellow</td>\n",
       "      <td>credit card</td>\n",
       "      <td>NaN</td>\n",
       "      <td>NaN</td>\n",
       "      <td>NaN</td>\n",
       "      <td>NaN</td>\n",
       "    </tr>\n",
       "    <tr>\n",
       "      <th>1108</th>\n",
       "      <td>2019-03-10 09:33:13</td>\n",
       "      <td>2019-03-10 09:52:04</td>\n",
       "      <td>1</td>\n",
       "      <td>0 days 00:18:51</td>\n",
       "      <td>13.40</td>\n",
       "      <td>52.0</td>\n",
       "      <td>11.70</td>\n",
       "      <td>5.76</td>\n",
       "      <td>70.26</td>\n",
       "      <td>yellow</td>\n",
       "      <td>credit card</td>\n",
       "      <td>NaN</td>\n",
       "      <td>NaN</td>\n",
       "      <td>NaN</td>\n",
       "      <td>NaN</td>\n",
       "    </tr>\n",
       "    <tr>\n",
       "      <th>1112</th>\n",
       "      <td>2019-03-12 19:09:23</td>\n",
       "      <td>2019-03-12 19:20:46</td>\n",
       "      <td>1</td>\n",
       "      <td>0 days 00:11:23</td>\n",
       "      <td>0.90</td>\n",
       "      <td>8.5</td>\n",
       "      <td>1.92</td>\n",
       "      <td>0.00</td>\n",
       "      <td>14.72</td>\n",
       "      <td>yellow</td>\n",
       "      <td>credit card</td>\n",
       "      <td>Times Sq/Theatre District</td>\n",
       "      <td>NaN</td>\n",
       "      <td>Manhattan</td>\n",
       "      <td>NaN</td>\n",
       "    </tr>\n",
       "    <tr>\n",
       "      <th>1230</th>\n",
       "      <td>2019-03-29 07:52:46</td>\n",
       "      <td>2019-03-29 08:02:40</td>\n",
       "      <td>1</td>\n",
       "      <td>0 days 00:09:54</td>\n",
       "      <td>0.90</td>\n",
       "      <td>5.5</td>\n",
       "      <td>1.76</td>\n",
       "      <td>0.00</td>\n",
       "      <td>10.56</td>\n",
       "      <td>yellow</td>\n",
       "      <td>credit card</td>\n",
       "      <td>Yorkville East</td>\n",
       "      <td>NaN</td>\n",
       "      <td>Manhattan</td>\n",
       "      <td>NaN</td>\n",
       "    </tr>\n",
       "    <tr>\n",
       "      <th>1690</th>\n",
       "      <td>2019-03-22 06:24:14</td>\n",
       "      <td>2019-03-22 06:24:14</td>\n",
       "      <td>1</td>\n",
       "      <td>0 days 00:00:00</td>\n",
       "      <td>0.00</td>\n",
       "      <td>72.0</td>\n",
       "      <td>0.00</td>\n",
       "      <td>0.00</td>\n",
       "      <td>72.00</td>\n",
       "      <td>yellow</td>\n",
       "      <td>NaN</td>\n",
       "      <td>East New York</td>\n",
       "      <td>NaN</td>\n",
       "      <td>Brooklyn</td>\n",
       "      <td>NaN</td>\n",
       "    </tr>\n",
       "    <tr>\n",
       "      <th>1787</th>\n",
       "      <td>2019-03-28 06:58:57</td>\n",
       "      <td>2019-03-28 07:18:10</td>\n",
       "      <td>1</td>\n",
       "      <td>0 days 00:19:13</td>\n",
       "      <td>6.32</td>\n",
       "      <td>20.5</td>\n",
       "      <td>4.26</td>\n",
       "      <td>0.00</td>\n",
       "      <td>25.56</td>\n",
       "      <td>yellow</td>\n",
       "      <td>credit card</td>\n",
       "      <td>Manhattan Valley</td>\n",
       "      <td>NaN</td>\n",
       "      <td>Manhattan</td>\n",
       "      <td>NaN</td>\n",
       "    </tr>\n",
       "    <tr>\n",
       "      <th>2089</th>\n",
       "      <td>2019-03-12 16:21:28</td>\n",
       "      <td>2019-03-12 16:43:40</td>\n",
       "      <td>1</td>\n",
       "      <td>0 days 00:22:12</td>\n",
       "      <td>5.69</td>\n",
       "      <td>21.0</td>\n",
       "      <td>0.00</td>\n",
       "      <td>0.00</td>\n",
       "      <td>22.80</td>\n",
       "      <td>yellow</td>\n",
       "      <td>cash</td>\n",
       "      <td>JFK Airport</td>\n",
       "      <td>NaN</td>\n",
       "      <td>Queens</td>\n",
       "      <td>NaN</td>\n",
       "    </tr>\n",
       "    <tr>\n",
       "      <th>2137</th>\n",
       "      <td>2019-03-08 13:27:32</td>\n",
       "      <td>2019-03-08 13:46:23</td>\n",
       "      <td>1</td>\n",
       "      <td>0 days 00:18:51</td>\n",
       "      <td>1.40</td>\n",
       "      <td>12.0</td>\n",
       "      <td>3.05</td>\n",
       "      <td>0.00</td>\n",
       "      <td>18.35</td>\n",
       "      <td>yellow</td>\n",
       "      <td>credit card</td>\n",
       "      <td>NaN</td>\n",
       "      <td>NaN</td>\n",
       "      <td>NaN</td>\n",
       "      <td>NaN</td>\n",
       "    </tr>\n",
       "    <tr>\n",
       "      <th>2180</th>\n",
       "      <td>2019-03-09 15:00:06</td>\n",
       "      <td>2019-03-09 15:50:29</td>\n",
       "      <td>2</td>\n",
       "      <td>0 days 00:50:23</td>\n",
       "      <td>14.82</td>\n",
       "      <td>50.5</td>\n",
       "      <td>0.00</td>\n",
       "      <td>2.64</td>\n",
       "      <td>53.94</td>\n",
       "      <td>yellow</td>\n",
       "      <td>credit card</td>\n",
       "      <td>Flatiron</td>\n",
       "      <td>NaN</td>\n",
       "      <td>Manhattan</td>\n",
       "      <td>NaN</td>\n",
       "    </tr>\n",
       "    <tr>\n",
       "      <th>2231</th>\n",
       "      <td>2019-03-11 10:17:31</td>\n",
       "      <td>2019-03-11 11:03:55</td>\n",
       "      <td>1</td>\n",
       "      <td>0 days 00:46:24</td>\n",
       "      <td>26.35</td>\n",
       "      <td>130.0</td>\n",
       "      <td>0.00</td>\n",
       "      <td>5.76</td>\n",
       "      <td>136.56</td>\n",
       "      <td>yellow</td>\n",
       "      <td>cash</td>\n",
       "      <td>East Harlem North</td>\n",
       "      <td>NaN</td>\n",
       "      <td>Manhattan</td>\n",
       "      <td>NaN</td>\n",
       "    </tr>\n",
       "    <tr>\n",
       "      <th>2402</th>\n",
       "      <td>2019-03-29 22:29:40</td>\n",
       "      <td>2019-03-29 22:54:28</td>\n",
       "      <td>3</td>\n",
       "      <td>0 days 00:24:48</td>\n",
       "      <td>19.20</td>\n",
       "      <td>84.0</td>\n",
       "      <td>0.00</td>\n",
       "      <td>0.00</td>\n",
       "      <td>85.30</td>\n",
       "      <td>yellow</td>\n",
       "      <td>cash</td>\n",
       "      <td>JFK Airport</td>\n",
       "      <td>NaN</td>\n",
       "      <td>Queens</td>\n",
       "      <td>NaN</td>\n",
       "    </tr>\n",
       "    <tr>\n",
       "      <th>2571</th>\n",
       "      <td>2019-03-15 04:07:20</td>\n",
       "      <td>2019-03-15 04:24:36</td>\n",
       "      <td>1</td>\n",
       "      <td>0 days 00:17:16</td>\n",
       "      <td>12.60</td>\n",
       "      <td>51.5</td>\n",
       "      <td>17.10</td>\n",
       "      <td>16.26</td>\n",
       "      <td>85.66</td>\n",
       "      <td>yellow</td>\n",
       "      <td>credit card</td>\n",
       "      <td>Flatiron</td>\n",
       "      <td>NaN</td>\n",
       "      <td>Manhattan</td>\n",
       "      <td>NaN</td>\n",
       "    </tr>\n",
       "    <tr>\n",
       "      <th>2742</th>\n",
       "      <td>2019-03-23 06:20:27</td>\n",
       "      <td>2019-03-23 06:20:59</td>\n",
       "      <td>1</td>\n",
       "      <td>0 days 00:00:32</td>\n",
       "      <td>0.00</td>\n",
       "      <td>55.0</td>\n",
       "      <td>0.00</td>\n",
       "      <td>0.00</td>\n",
       "      <td>55.80</td>\n",
       "      <td>yellow</td>\n",
       "      <td>credit card</td>\n",
       "      <td>NaN</td>\n",
       "      <td>NaN</td>\n",
       "      <td>NaN</td>\n",
       "      <td>NaN</td>\n",
       "    </tr>\n",
       "    <tr>\n",
       "      <th>2905</th>\n",
       "      <td>2019-03-18 16:53:21</td>\n",
       "      <td>2019-03-18 17:41:48</td>\n",
       "      <td>1</td>\n",
       "      <td>0 days 00:48:27</td>\n",
       "      <td>24.57</td>\n",
       "      <td>78.0</td>\n",
       "      <td>0.00</td>\n",
       "      <td>5.76</td>\n",
       "      <td>85.56</td>\n",
       "      <td>yellow</td>\n",
       "      <td>cash</td>\n",
       "      <td>JFK Airport</td>\n",
       "      <td>NaN</td>\n",
       "      <td>Queens</td>\n",
       "      <td>NaN</td>\n",
       "    </tr>\n",
       "    <tr>\n",
       "      <th>3085</th>\n",
       "      <td>2019-03-24 15:43:02</td>\n",
       "      <td>2019-03-24 16:02:57</td>\n",
       "      <td>1</td>\n",
       "      <td>0 days 00:19:55</td>\n",
       "      <td>3.20</td>\n",
       "      <td>14.5</td>\n",
       "      <td>0.00</td>\n",
       "      <td>0.00</td>\n",
       "      <td>15.30</td>\n",
       "      <td>yellow</td>\n",
       "      <td>cash</td>\n",
       "      <td>NaN</td>\n",
       "      <td>NaN</td>\n",
       "      <td>NaN</td>\n",
       "      <td>NaN</td>\n",
       "    </tr>\n",
       "    <tr>\n",
       "      <th>3241</th>\n",
       "      <td>2019-03-24 17:19:27</td>\n",
       "      <td>2019-03-24 17:19:29</td>\n",
       "      <td>1</td>\n",
       "      <td>0 days 00:00:02</td>\n",
       "      <td>0.34</td>\n",
       "      <td>65.0</td>\n",
       "      <td>13.06</td>\n",
       "      <td>0.00</td>\n",
       "      <td>78.36</td>\n",
       "      <td>yellow</td>\n",
       "      <td>credit card</td>\n",
       "      <td>Kew Gardens</td>\n",
       "      <td>NaN</td>\n",
       "      <td>Queens</td>\n",
       "      <td>NaN</td>\n",
       "    </tr>\n",
       "    <tr>\n",
       "      <th>3259</th>\n",
       "      <td>2019-03-30 00:39:09</td>\n",
       "      <td>2019-03-30 00:43:34</td>\n",
       "      <td>1</td>\n",
       "      <td>0 days 00:04:25</td>\n",
       "      <td>0.84</td>\n",
       "      <td>5.0</td>\n",
       "      <td>1.70</td>\n",
       "      <td>0.00</td>\n",
       "      <td>10.50</td>\n",
       "      <td>yellow</td>\n",
       "      <td>credit card</td>\n",
       "      <td>NaN</td>\n",
       "      <td>NaN</td>\n",
       "      <td>NaN</td>\n",
       "      <td>NaN</td>\n",
       "    </tr>\n",
       "    <tr>\n",
       "      <th>3500</th>\n",
       "      <td>2019-03-11 17:18:03</td>\n",
       "      <td>2019-03-11 18:27:48</td>\n",
       "      <td>1</td>\n",
       "      <td>0 days 01:09:45</td>\n",
       "      <td>24.63</td>\n",
       "      <td>87.5</td>\n",
       "      <td>17.86</td>\n",
       "      <td>0.00</td>\n",
       "      <td>107.16</td>\n",
       "      <td>yellow</td>\n",
       "      <td>credit card</td>\n",
       "      <td>LaGuardia Airport</td>\n",
       "      <td>NaN</td>\n",
       "      <td>Queens</td>\n",
       "      <td>NaN</td>\n",
       "    </tr>\n",
       "    <tr>\n",
       "      <th>3644</th>\n",
       "      <td>2019-03-19 23:30:50</td>\n",
       "      <td>2019-03-19 23:32:33</td>\n",
       "      <td>2</td>\n",
       "      <td>0 days 00:01:43</td>\n",
       "      <td>0.00</td>\n",
       "      <td>103.0</td>\n",
       "      <td>20.65</td>\n",
       "      <td>0.00</td>\n",
       "      <td>123.95</td>\n",
       "      <td>yellow</td>\n",
       "      <td>credit card</td>\n",
       "      <td>NaN</td>\n",
       "      <td>NaN</td>\n",
       "      <td>NaN</td>\n",
       "      <td>NaN</td>\n",
       "    </tr>\n",
       "    <tr>\n",
       "      <th>3661</th>\n",
       "      <td>2019-03-04 21:24:54</td>\n",
       "      <td>2019-03-04 21:55:07</td>\n",
       "      <td>1</td>\n",
       "      <td>0 days 00:30:13</td>\n",
       "      <td>21.30</td>\n",
       "      <td>79.5</td>\n",
       "      <td>0.00</td>\n",
       "      <td>0.00</td>\n",
       "      <td>80.80</td>\n",
       "      <td>yellow</td>\n",
       "      <td>cash</td>\n",
       "      <td>JFK Airport</td>\n",
       "      <td>NaN</td>\n",
       "      <td>Queens</td>\n",
       "      <td>NaN</td>\n",
       "    </tr>\n",
       "    <tr>\n",
       "      <th>3889</th>\n",
       "      <td>2019-03-30 06:42:55</td>\n",
       "      <td>2019-03-30 06:43:00</td>\n",
       "      <td>1</td>\n",
       "      <td>0 days 00:00:05</td>\n",
       "      <td>0.00</td>\n",
       "      <td>2.5</td>\n",
       "      <td>0.00</td>\n",
       "      <td>0.00</td>\n",
       "      <td>3.30</td>\n",
       "      <td>yellow</td>\n",
       "      <td>cash</td>\n",
       "      <td>NaN</td>\n",
       "      <td>NaN</td>\n",
       "      <td>NaN</td>\n",
       "      <td>NaN</td>\n",
       "    </tr>\n",
       "    <tr>\n",
       "      <th>4050</th>\n",
       "      <td>2019-03-13 14:05:19</td>\n",
       "      <td>2019-03-13 15:01:16</td>\n",
       "      <td>6</td>\n",
       "      <td>0 days 00:55:57</td>\n",
       "      <td>33.76</td>\n",
       "      <td>143.5</td>\n",
       "      <td>0.00</td>\n",
       "      <td>0.00</td>\n",
       "      <td>144.30</td>\n",
       "      <td>yellow</td>\n",
       "      <td>cash</td>\n",
       "      <td>LaGuardia Airport</td>\n",
       "      <td>NaN</td>\n",
       "      <td>Queens</td>\n",
       "      <td>NaN</td>\n",
       "    </tr>\n",
       "    <tr>\n",
       "      <th>4118</th>\n",
       "      <td>2019-03-15 14:01:54</td>\n",
       "      <td>2019-03-15 14:01:59</td>\n",
       "      <td>1</td>\n",
       "      <td>0 days 00:00:05</td>\n",
       "      <td>0.00</td>\n",
       "      <td>25.0</td>\n",
       "      <td>5.06</td>\n",
       "      <td>0.00</td>\n",
       "      <td>30.36</td>\n",
       "      <td>yellow</td>\n",
       "      <td>credit card</td>\n",
       "      <td>NaN</td>\n",
       "      <td>NaN</td>\n",
       "      <td>NaN</td>\n",
       "      <td>NaN</td>\n",
       "    </tr>\n",
       "    <tr>\n",
       "      <th>4127</th>\n",
       "      <td>2019-03-01 05:18:21</td>\n",
       "      <td>2019-03-01 05:18:30</td>\n",
       "      <td>2</td>\n",
       "      <td>0 days 00:00:09</td>\n",
       "      <td>0.04</td>\n",
       "      <td>2.5</td>\n",
       "      <td>0.00</td>\n",
       "      <td>0.00</td>\n",
       "      <td>3.80</td>\n",
       "      <td>yellow</td>\n",
       "      <td>cash</td>\n",
       "      <td>NaN</td>\n",
       "      <td>NaN</td>\n",
       "      <td>NaN</td>\n",
       "      <td>NaN</td>\n",
       "    </tr>\n",
       "    <tr>\n",
       "      <th>4219</th>\n",
       "      <td>2019-03-08 20:07:54</td>\n",
       "      <td>2019-03-08 21:10:00</td>\n",
       "      <td>1</td>\n",
       "      <td>0 days 01:02:06</td>\n",
       "      <td>36.66</td>\n",
       "      <td>96.5</td>\n",
       "      <td>10.00</td>\n",
       "      <td>5.76</td>\n",
       "      <td>113.56</td>\n",
       "      <td>yellow</td>\n",
       "      <td>credit card</td>\n",
       "      <td>JFK Airport</td>\n",
       "      <td>NaN</td>\n",
       "      <td>Queens</td>\n",
       "      <td>NaN</td>\n",
       "    </tr>\n",
       "    <tr>\n",
       "      <th>4281</th>\n",
       "      <td>2019-03-18 23:29:49</td>\n",
       "      <td>2019-03-18 23:38:00</td>\n",
       "      <td>1</td>\n",
       "      <td>0 days 00:08:11</td>\n",
       "      <td>2.10</td>\n",
       "      <td>9.0</td>\n",
       "      <td>2.06</td>\n",
       "      <td>0.00</td>\n",
       "      <td>12.36</td>\n",
       "      <td>yellow</td>\n",
       "      <td>credit card</td>\n",
       "      <td>NaN</td>\n",
       "      <td>NaN</td>\n",
       "      <td>NaN</td>\n",
       "      <td>NaN</td>\n",
       "    </tr>\n",
       "    <tr>\n",
       "      <th>4414</th>\n",
       "      <td>2019-03-29 20:42:47</td>\n",
       "      <td>2019-03-29 21:03:50</td>\n",
       "      <td>1</td>\n",
       "      <td>0 days 00:21:03</td>\n",
       "      <td>4.20</td>\n",
       "      <td>17.0</td>\n",
       "      <td>4.80</td>\n",
       "      <td>5.76</td>\n",
       "      <td>28.86</td>\n",
       "      <td>yellow</td>\n",
       "      <td>credit card</td>\n",
       "      <td>NaN</td>\n",
       "      <td>NaN</td>\n",
       "      <td>NaN</td>\n",
       "      <td>NaN</td>\n",
       "    </tr>\n",
       "    <tr>\n",
       "      <th>4466</th>\n",
       "      <td>2019-03-24 03:17:59</td>\n",
       "      <td>2019-03-24 03:52:41</td>\n",
       "      <td>1</td>\n",
       "      <td>0 days 00:34:42</td>\n",
       "      <td>14.80</td>\n",
       "      <td>43.5</td>\n",
       "      <td>0.00</td>\n",
       "      <td>0.00</td>\n",
       "      <td>47.30</td>\n",
       "      <td>yellow</td>\n",
       "      <td>cash</td>\n",
       "      <td>Midtown Center</td>\n",
       "      <td>NaN</td>\n",
       "      <td>Manhattan</td>\n",
       "      <td>NaN</td>\n",
       "    </tr>\n",
       "    <tr>\n",
       "      <th>4772</th>\n",
       "      <td>2019-03-21 19:51:13</td>\n",
       "      <td>2019-03-21 19:57:03</td>\n",
       "      <td>1</td>\n",
       "      <td>0 days 00:05:50</td>\n",
       "      <td>0.72</td>\n",
       "      <td>5.5</td>\n",
       "      <td>1.46</td>\n",
       "      <td>0.00</td>\n",
       "      <td>8.76</td>\n",
       "      <td>yellow</td>\n",
       "      <td>credit card</td>\n",
       "      <td>NaN</td>\n",
       "      <td>NaN</td>\n",
       "      <td>NaN</td>\n",
       "      <td>NaN</td>\n",
       "    </tr>\n",
       "    <tr>\n",
       "      <th>4815</th>\n",
       "      <td>2019-03-08 11:25:08</td>\n",
       "      <td>2019-03-08 11:50:30</td>\n",
       "      <td>3</td>\n",
       "      <td>0 days 00:25:22</td>\n",
       "      <td>10.36</td>\n",
       "      <td>100.0</td>\n",
       "      <td>20.56</td>\n",
       "      <td>0.00</td>\n",
       "      <td>123.36</td>\n",
       "      <td>yellow</td>\n",
       "      <td>credit card</td>\n",
       "      <td>TriBeCa/Civic Center</td>\n",
       "      <td>NaN</td>\n",
       "      <td>Manhattan</td>\n",
       "      <td>NaN</td>\n",
       "    </tr>\n",
       "    <tr>\n",
       "      <th>4941</th>\n",
       "      <td>2019-03-01 08:12:28</td>\n",
       "      <td>2019-03-01 08:17:19</td>\n",
       "      <td>1</td>\n",
       "      <td>0 days 00:04:51</td>\n",
       "      <td>0.83</td>\n",
       "      <td>5.0</td>\n",
       "      <td>2.50</td>\n",
       "      <td>0.00</td>\n",
       "      <td>10.80</td>\n",
       "      <td>yellow</td>\n",
       "      <td>credit card</td>\n",
       "      <td>NaN</td>\n",
       "      <td>NaN</td>\n",
       "      <td>NaN</td>\n",
       "      <td>NaN</td>\n",
       "    </tr>\n",
       "    <tr>\n",
       "      <th>5263</th>\n",
       "      <td>2019-03-09 20:37:53</td>\n",
       "      <td>2019-03-09 21:07:20</td>\n",
       "      <td>1</td>\n",
       "      <td>0 days 00:29:27</td>\n",
       "      <td>4.99</td>\n",
       "      <td>22.0</td>\n",
       "      <td>5.16</td>\n",
       "      <td>0.00</td>\n",
       "      <td>30.96</td>\n",
       "      <td>yellow</td>\n",
       "      <td>credit card</td>\n",
       "      <td>NaN</td>\n",
       "      <td>NaN</td>\n",
       "      <td>NaN</td>\n",
       "      <td>NaN</td>\n",
       "    </tr>\n",
       "    <tr>\n",
       "      <th>5493</th>\n",
       "      <td>2019-03-06 12:14:00</td>\n",
       "      <td>2019-03-06 12:14:00</td>\n",
       "      <td>1</td>\n",
       "      <td>0 days 00:00:00</td>\n",
       "      <td>0.00</td>\n",
       "      <td>10.0</td>\n",
       "      <td>0.00</td>\n",
       "      <td>0.00</td>\n",
       "      <td>10.00</td>\n",
       "      <td>green</td>\n",
       "      <td>credit card</td>\n",
       "      <td>NaN</td>\n",
       "      <td>NaN</td>\n",
       "      <td>NaN</td>\n",
       "      <td>NaN</td>\n",
       "    </tr>\n",
       "    <tr>\n",
       "      <th>5612</th>\n",
       "      <td>2019-03-10 00:19:00</td>\n",
       "      <td>2019-03-10 00:33:23</td>\n",
       "      <td>1</td>\n",
       "      <td>0 days 00:14:23</td>\n",
       "      <td>2.53</td>\n",
       "      <td>11.0</td>\n",
       "      <td>0.00</td>\n",
       "      <td>0.00</td>\n",
       "      <td>12.30</td>\n",
       "      <td>green</td>\n",
       "      <td>cash</td>\n",
       "      <td>Jackson Heights</td>\n",
       "      <td>NaN</td>\n",
       "      <td>Queens</td>\n",
       "      <td>NaN</td>\n",
       "    </tr>\n",
       "    <tr>\n",
       "      <th>5624</th>\n",
       "      <td>2019-03-11 14:04:50</td>\n",
       "      <td>2019-03-11 14:04:50</td>\n",
       "      <td>1</td>\n",
       "      <td>0 days 00:00:00</td>\n",
       "      <td>0.00</td>\n",
       "      <td>2.5</td>\n",
       "      <td>0.00</td>\n",
       "      <td>0.00</td>\n",
       "      <td>3.30</td>\n",
       "      <td>green</td>\n",
       "      <td>cash</td>\n",
       "      <td>NaN</td>\n",
       "      <td>NaN</td>\n",
       "      <td>NaN</td>\n",
       "      <td>NaN</td>\n",
       "    </tr>\n",
       "    <tr>\n",
       "      <th>5638</th>\n",
       "      <td>2019-03-13 12:22:00</td>\n",
       "      <td>2019-03-13 12:22:00</td>\n",
       "      <td>1</td>\n",
       "      <td>0 days 00:00:00</td>\n",
       "      <td>0.00</td>\n",
       "      <td>10.0</td>\n",
       "      <td>0.00</td>\n",
       "      <td>0.00</td>\n",
       "      <td>10.00</td>\n",
       "      <td>green</td>\n",
       "      <td>credit card</td>\n",
       "      <td>NaN</td>\n",
       "      <td>NaN</td>\n",
       "      <td>NaN</td>\n",
       "      <td>NaN</td>\n",
       "    </tr>\n",
       "    <tr>\n",
       "      <th>5648</th>\n",
       "      <td>2019-03-19 14:21:35</td>\n",
       "      <td>2019-03-19 15:51:28</td>\n",
       "      <td>2</td>\n",
       "      <td>0 days 01:29:53</td>\n",
       "      <td>33.46</td>\n",
       "      <td>150.0</td>\n",
       "      <td>0.00</td>\n",
       "      <td>18.90</td>\n",
       "      <td>169.70</td>\n",
       "      <td>green</td>\n",
       "      <td>cash</td>\n",
       "      <td>East Flushing</td>\n",
       "      <td>NaN</td>\n",
       "      <td>Queens</td>\n",
       "      <td>NaN</td>\n",
       "    </tr>\n",
       "    <tr>\n",
       "      <th>6083</th>\n",
       "      <td>2019-03-19 15:34:00</td>\n",
       "      <td>2019-03-19 15:34:00</td>\n",
       "      <td>1</td>\n",
       "      <td>0 days 00:00:00</td>\n",
       "      <td>0.00</td>\n",
       "      <td>5.0</td>\n",
       "      <td>0.00</td>\n",
       "      <td>0.00</td>\n",
       "      <td>5.00</td>\n",
       "      <td>green</td>\n",
       "      <td>credit card</td>\n",
       "      <td>NaN</td>\n",
       "      <td>NaN</td>\n",
       "      <td>NaN</td>\n",
       "      <td>NaN</td>\n",
       "    </tr>\n",
       "    <tr>\n",
       "      <th>6118</th>\n",
       "      <td>2019-03-30 00:49:48</td>\n",
       "      <td>2019-03-30 00:49:56</td>\n",
       "      <td>1</td>\n",
       "      <td>0 days 00:00:08</td>\n",
       "      <td>0.00</td>\n",
       "      <td>25.0</td>\n",
       "      <td>0.00</td>\n",
       "      <td>0.00</td>\n",
       "      <td>25.50</td>\n",
       "      <td>green</td>\n",
       "      <td>credit card</td>\n",
       "      <td>Prospect Heights</td>\n",
       "      <td>NaN</td>\n",
       "      <td>Brooklyn</td>\n",
       "      <td>NaN</td>\n",
       "    </tr>\n",
       "    <tr>\n",
       "      <th>6314</th>\n",
       "      <td>2019-03-28 22:36:04</td>\n",
       "      <td>2019-03-28 22:36:07</td>\n",
       "      <td>1</td>\n",
       "      <td>0 days 00:00:03</td>\n",
       "      <td>0.00</td>\n",
       "      <td>25.0</td>\n",
       "      <td>0.00</td>\n",
       "      <td>0.00</td>\n",
       "      <td>25.00</td>\n",
       "      <td>green</td>\n",
       "      <td>cash</td>\n",
       "      <td>Jamaica</td>\n",
       "      <td>NaN</td>\n",
       "      <td>Queens</td>\n",
       "      <td>NaN</td>\n",
       "    </tr>\n",
       "    <tr>\n",
       "      <th>6356</th>\n",
       "      <td>2019-03-01 16:58:23</td>\n",
       "      <td>2019-03-01 16:58:23</td>\n",
       "      <td>1</td>\n",
       "      <td>0 days 00:00:00</td>\n",
       "      <td>0.00</td>\n",
       "      <td>3.0</td>\n",
       "      <td>0.00</td>\n",
       "      <td>0.00</td>\n",
       "      <td>4.80</td>\n",
       "      <td>green</td>\n",
       "      <td>cash</td>\n",
       "      <td>Stuyvesant Heights</td>\n",
       "      <td>NaN</td>\n",
       "      <td>Brooklyn</td>\n",
       "      <td>NaN</td>\n",
       "    </tr>\n",
       "  </tbody>\n",
       "</table>\n",
       "</div>"
      ],
      "text/plain": [
       "                  pickup             dropoff  passengers        duration  \\\n",
       "42   2019-03-30 23:59:14 2019-03-30 23:59:17           1 0 days 00:00:03   \n",
       "622  2019-03-12 19:52:36 2019-03-12 19:52:55           3 0 days 00:00:19   \n",
       "711  2019-03-21 17:39:50 2019-03-21 18:12:54           2 0 days 00:33:04   \n",
       "739  2019-03-14 00:09:17 2019-03-14 00:09:21           1 0 days 00:00:04   \n",
       "970  2019-03-29 00:02:00 2019-03-29 00:02:05           2 0 days 00:00:05   \n",
       "1108 2019-03-10 09:33:13 2019-03-10 09:52:04           1 0 days 00:18:51   \n",
       "1112 2019-03-12 19:09:23 2019-03-12 19:20:46           1 0 days 00:11:23   \n",
       "1230 2019-03-29 07:52:46 2019-03-29 08:02:40           1 0 days 00:09:54   \n",
       "1690 2019-03-22 06:24:14 2019-03-22 06:24:14           1 0 days 00:00:00   \n",
       "1787 2019-03-28 06:58:57 2019-03-28 07:18:10           1 0 days 00:19:13   \n",
       "2089 2019-03-12 16:21:28 2019-03-12 16:43:40           1 0 days 00:22:12   \n",
       "2137 2019-03-08 13:27:32 2019-03-08 13:46:23           1 0 days 00:18:51   \n",
       "2180 2019-03-09 15:00:06 2019-03-09 15:50:29           2 0 days 00:50:23   \n",
       "2231 2019-03-11 10:17:31 2019-03-11 11:03:55           1 0 days 00:46:24   \n",
       "2402 2019-03-29 22:29:40 2019-03-29 22:54:28           3 0 days 00:24:48   \n",
       "2571 2019-03-15 04:07:20 2019-03-15 04:24:36           1 0 days 00:17:16   \n",
       "2742 2019-03-23 06:20:27 2019-03-23 06:20:59           1 0 days 00:00:32   \n",
       "2905 2019-03-18 16:53:21 2019-03-18 17:41:48           1 0 days 00:48:27   \n",
       "3085 2019-03-24 15:43:02 2019-03-24 16:02:57           1 0 days 00:19:55   \n",
       "3241 2019-03-24 17:19:27 2019-03-24 17:19:29           1 0 days 00:00:02   \n",
       "3259 2019-03-30 00:39:09 2019-03-30 00:43:34           1 0 days 00:04:25   \n",
       "3500 2019-03-11 17:18:03 2019-03-11 18:27:48           1 0 days 01:09:45   \n",
       "3644 2019-03-19 23:30:50 2019-03-19 23:32:33           2 0 days 00:01:43   \n",
       "3661 2019-03-04 21:24:54 2019-03-04 21:55:07           1 0 days 00:30:13   \n",
       "3889 2019-03-30 06:42:55 2019-03-30 06:43:00           1 0 days 00:00:05   \n",
       "4050 2019-03-13 14:05:19 2019-03-13 15:01:16           6 0 days 00:55:57   \n",
       "4118 2019-03-15 14:01:54 2019-03-15 14:01:59           1 0 days 00:00:05   \n",
       "4127 2019-03-01 05:18:21 2019-03-01 05:18:30           2 0 days 00:00:09   \n",
       "4219 2019-03-08 20:07:54 2019-03-08 21:10:00           1 0 days 01:02:06   \n",
       "4281 2019-03-18 23:29:49 2019-03-18 23:38:00           1 0 days 00:08:11   \n",
       "4414 2019-03-29 20:42:47 2019-03-29 21:03:50           1 0 days 00:21:03   \n",
       "4466 2019-03-24 03:17:59 2019-03-24 03:52:41           1 0 days 00:34:42   \n",
       "4772 2019-03-21 19:51:13 2019-03-21 19:57:03           1 0 days 00:05:50   \n",
       "4815 2019-03-08 11:25:08 2019-03-08 11:50:30           3 0 days 00:25:22   \n",
       "4941 2019-03-01 08:12:28 2019-03-01 08:17:19           1 0 days 00:04:51   \n",
       "5263 2019-03-09 20:37:53 2019-03-09 21:07:20           1 0 days 00:29:27   \n",
       "5493 2019-03-06 12:14:00 2019-03-06 12:14:00           1 0 days 00:00:00   \n",
       "5612 2019-03-10 00:19:00 2019-03-10 00:33:23           1 0 days 00:14:23   \n",
       "5624 2019-03-11 14:04:50 2019-03-11 14:04:50           1 0 days 00:00:00   \n",
       "5638 2019-03-13 12:22:00 2019-03-13 12:22:00           1 0 days 00:00:00   \n",
       "5648 2019-03-19 14:21:35 2019-03-19 15:51:28           2 0 days 01:29:53   \n",
       "6083 2019-03-19 15:34:00 2019-03-19 15:34:00           1 0 days 00:00:00   \n",
       "6118 2019-03-30 00:49:48 2019-03-30 00:49:56           1 0 days 00:00:08   \n",
       "6314 2019-03-28 22:36:04 2019-03-28 22:36:07           1 0 days 00:00:03   \n",
       "6356 2019-03-01 16:58:23 2019-03-01 16:58:23           1 0 days 00:00:00   \n",
       "\n",
       "      distance   fare    tip  tolls   total   color      payment  \\\n",
       "42        0.00   80.0  20.08   0.00  100.38  yellow  credit card   \n",
       "622       0.00  120.0  33.20  12.50  166.00  yellow  credit card   \n",
       "711       1.74   17.0   4.26   0.00   25.56  yellow  credit card   \n",
       "739       0.03    2.5   0.00   0.00    3.80  yellow         cash   \n",
       "970       0.00   45.0   5.00   0.00   50.30  yellow  credit card   \n",
       "1108     13.40   52.0  11.70   5.76   70.26  yellow  credit card   \n",
       "1112      0.90    8.5   1.92   0.00   14.72  yellow  credit card   \n",
       "1230      0.90    5.5   1.76   0.00   10.56  yellow  credit card   \n",
       "1690      0.00   72.0   0.00   0.00   72.00  yellow          NaN   \n",
       "1787      6.32   20.5   4.26   0.00   25.56  yellow  credit card   \n",
       "2089      5.69   21.0   0.00   0.00   22.80  yellow         cash   \n",
       "2137      1.40   12.0   3.05   0.00   18.35  yellow  credit card   \n",
       "2180     14.82   50.5   0.00   2.64   53.94  yellow  credit card   \n",
       "2231     26.35  130.0   0.00   5.76  136.56  yellow         cash   \n",
       "2402     19.20   84.0   0.00   0.00   85.30  yellow         cash   \n",
       "2571     12.60   51.5  17.10  16.26   85.66  yellow  credit card   \n",
       "2742      0.00   55.0   0.00   0.00   55.80  yellow  credit card   \n",
       "2905     24.57   78.0   0.00   5.76   85.56  yellow         cash   \n",
       "3085      3.20   14.5   0.00   0.00   15.30  yellow         cash   \n",
       "3241      0.34   65.0  13.06   0.00   78.36  yellow  credit card   \n",
       "3259      0.84    5.0   1.70   0.00   10.50  yellow  credit card   \n",
       "3500     24.63   87.5  17.86   0.00  107.16  yellow  credit card   \n",
       "3644      0.00  103.0  20.65   0.00  123.95  yellow  credit card   \n",
       "3661     21.30   79.5   0.00   0.00   80.80  yellow         cash   \n",
       "3889      0.00    2.5   0.00   0.00    3.30  yellow         cash   \n",
       "4050     33.76  143.5   0.00   0.00  144.30  yellow         cash   \n",
       "4118      0.00   25.0   5.06   0.00   30.36  yellow  credit card   \n",
       "4127      0.04    2.5   0.00   0.00    3.80  yellow         cash   \n",
       "4219     36.66   96.5  10.00   5.76  113.56  yellow  credit card   \n",
       "4281      2.10    9.0   2.06   0.00   12.36  yellow  credit card   \n",
       "4414      4.20   17.0   4.80   5.76   28.86  yellow  credit card   \n",
       "4466     14.80   43.5   0.00   0.00   47.30  yellow         cash   \n",
       "4772      0.72    5.5   1.46   0.00    8.76  yellow  credit card   \n",
       "4815     10.36  100.0  20.56   0.00  123.36  yellow  credit card   \n",
       "4941      0.83    5.0   2.50   0.00   10.80  yellow  credit card   \n",
       "5263      4.99   22.0   5.16   0.00   30.96  yellow  credit card   \n",
       "5493      0.00   10.0   0.00   0.00   10.00   green  credit card   \n",
       "5612      2.53   11.0   0.00   0.00   12.30   green         cash   \n",
       "5624      0.00    2.5   0.00   0.00    3.30   green         cash   \n",
       "5638      0.00   10.0   0.00   0.00   10.00   green  credit card   \n",
       "5648     33.46  150.0   0.00  18.90  169.70   green         cash   \n",
       "6083      0.00    5.0   0.00   0.00    5.00   green  credit card   \n",
       "6118      0.00   25.0   0.00   0.00   25.50   green  credit card   \n",
       "6314      0.00   25.0   0.00   0.00   25.00   green         cash   \n",
       "6356      0.00    3.0   0.00   0.00    4.80   green         cash   \n",
       "\n",
       "                    pickup_zone dropoff_zone pickup_borough dropoff_borough  \n",
       "42                          NaN          NaN            NaN             NaN  \n",
       "622                         NaN          NaN            NaN             NaN  \n",
       "711                Midtown East          NaN      Manhattan             NaN  \n",
       "739       Upper East Side South          NaN      Manhattan             NaN  \n",
       "970                         NaN          NaN            NaN             NaN  \n",
       "1108                        NaN          NaN            NaN             NaN  \n",
       "1112  Times Sq/Theatre District          NaN      Manhattan             NaN  \n",
       "1230             Yorkville East          NaN      Manhattan             NaN  \n",
       "1690              East New York          NaN       Brooklyn             NaN  \n",
       "1787           Manhattan Valley          NaN      Manhattan             NaN  \n",
       "2089                JFK Airport          NaN         Queens             NaN  \n",
       "2137                        NaN          NaN            NaN             NaN  \n",
       "2180                   Flatiron          NaN      Manhattan             NaN  \n",
       "2231          East Harlem North          NaN      Manhattan             NaN  \n",
       "2402                JFK Airport          NaN         Queens             NaN  \n",
       "2571                   Flatiron          NaN      Manhattan             NaN  \n",
       "2742                        NaN          NaN            NaN             NaN  \n",
       "2905                JFK Airport          NaN         Queens             NaN  \n",
       "3085                        NaN          NaN            NaN             NaN  \n",
       "3241                Kew Gardens          NaN         Queens             NaN  \n",
       "3259                        NaN          NaN            NaN             NaN  \n",
       "3500          LaGuardia Airport          NaN         Queens             NaN  \n",
       "3644                        NaN          NaN            NaN             NaN  \n",
       "3661                JFK Airport          NaN         Queens             NaN  \n",
       "3889                        NaN          NaN            NaN             NaN  \n",
       "4050          LaGuardia Airport          NaN         Queens             NaN  \n",
       "4118                        NaN          NaN            NaN             NaN  \n",
       "4127                        NaN          NaN            NaN             NaN  \n",
       "4219                JFK Airport          NaN         Queens             NaN  \n",
       "4281                        NaN          NaN            NaN             NaN  \n",
       "4414                        NaN          NaN            NaN             NaN  \n",
       "4466             Midtown Center          NaN      Manhattan             NaN  \n",
       "4772                        NaN          NaN            NaN             NaN  \n",
       "4815       TriBeCa/Civic Center          NaN      Manhattan             NaN  \n",
       "4941                        NaN          NaN            NaN             NaN  \n",
       "5263                        NaN          NaN            NaN             NaN  \n",
       "5493                        NaN          NaN            NaN             NaN  \n",
       "5612            Jackson Heights          NaN         Queens             NaN  \n",
       "5624                        NaN          NaN            NaN             NaN  \n",
       "5638                        NaN          NaN            NaN             NaN  \n",
       "5648              East Flushing          NaN         Queens             NaN  \n",
       "6083                        NaN          NaN            NaN             NaN  \n",
       "6118           Prospect Heights          NaN       Brooklyn             NaN  \n",
       "6314                    Jamaica          NaN         Queens             NaN  \n",
       "6356         Stuyvesant Heights          NaN       Brooklyn             NaN  "
      ]
     },
     "execution_count": 8,
     "metadata": {},
     "output_type": "execute_result"
    }
   ],
   "source": [
    "df_nan = df_taxi[df_taxi.dropoff_borough.isnull()]\n",
    "df_nan = df_nan.astype({'pickup': 'datetime64[ns]','dropoff': 'datetime64[ns]'})\n",
    "df_nan.insert(loc=3, column=\"duration\", value=df_nan.dropoff - df_nan.pickup)\n",
    "df_nan"
   ]
  },
  {
   "cell_type": "markdown",
   "id": "15520ec5",
   "metadata": {},
   "source": [
    ">ВИСНОВКИ:Вибірку інформації виведено на основі пустих значень у стопчику з даними району, де закінчилась поїздка. \n",
    "Припущення (гіпотези) щодо незаповненності даних у вибірці:\n",
    "\n",
    ">1) у даному випадку всі значення зони, де закінчилась поїздка також пусті, як і району. Це може свідчити про нездійснення поїздки, її передчасне завершення (наприклад, у разі затора на дорозі) або незаповнення даних клієнтом/водієм.\n",
    "\n",
    ">2) поїздки, в яких відстань рівна 0 можуть бути відхиленими самим клієнтом з різних причин, це можна також відслідкувати за тривалістю поїздки(додана колонка \"duration\"), котра рівна 0 або менше 2 хвилин. В такому випадку, можливо плата за хибний виклик не повертається клієнту;\n",
    "\n",
    ">3) значення кінцевої (початкової) локації поїздки можуть бути пустими через використання певної категорії таксі поза зоною їх дії (як вказано на сайті жовті таксі їздять по Нью-Йорку, зелені - пн.Манхеттен та віддалені райони). Можливо через категорію таксі водії не можуть вказати точки відправлення та прибуття поза зоною їх дії.\n",
    "\n",
    ">4) незаповненність даних також може бути через збій системи.\n",
    "\n",
    ">На мою думку, рядки даної вибірки слід видалити для потреб аналізу."
   ]
  },
  {
   "cell_type": "markdown",
   "id": "804a4fd7",
   "metadata": {},
   "source": [
    "3.Заповнимо пусті значення. Оскільки всі колонки набору даних мають пропущені значення в рядках з типом даних рядок, заповнимо пропущені значення рядком `NA`.\n",
    "Створено набір даних `df_taxi_clean`, який містить дані `df_taxi` із заповненими пропущеними значеннями у всіх колонках (де ті значення відсутні) значенням `NA`."
   ]
  },
  {
   "cell_type": "code",
   "execution_count": 9,
   "id": "92f64207",
   "metadata": {
    "ExecuteTime": {
     "end_time": "2023-01-06T18:43:58.707119Z",
     "start_time": "2023-01-06T18:43:58.669093Z"
    }
   },
   "outputs": [],
   "source": [
    "df_taxi_clean = df_taxi.fillna('NA')"
   ]
  },
  {
   "cell_type": "code",
   "execution_count": 10,
   "id": "10236d65",
   "metadata": {
    "ExecuteTime": {
     "end_time": "2023-01-06T18:43:59.802972Z",
     "start_time": "2023-01-06T18:43:59.708729Z"
    }
   },
   "outputs": [
    {
     "data": {
      "text/plain": [
       "pickup             0\n",
       "dropoff            0\n",
       "passengers         0\n",
       "distance           0\n",
       "fare               0\n",
       "tip                0\n",
       "tolls              0\n",
       "total              0\n",
       "color              0\n",
       "payment            0\n",
       "pickup_zone        0\n",
       "dropoff_zone       0\n",
       "pickup_borough     0\n",
       "dropoff_borough    0\n",
       "dtype: int64"
      ]
     },
     "execution_count": 10,
     "metadata": {},
     "output_type": "execute_result"
    }
   ],
   "source": [
    "df_taxi_clean.isna().sum()"
   ]
  },
  {
   "cell_type": "markdown",
   "id": "b7310912",
   "metadata": {},
   "source": [
    "4.Щоб подивитись на дані у динаміці , перетворено колонку `pickup` набору даних `df_taxi_clean`у формат `datetime64[ns]`. Результат перетворення збережено в тій самій колонці `pickup`."
   ]
  },
  {
   "cell_type": "code",
   "execution_count": 11,
   "id": "8df40561",
   "metadata": {
    "ExecuteTime": {
     "end_time": "2023-01-06T18:44:02.684040Z",
     "start_time": "2023-01-06T18:44:02.661027Z"
    }
   },
   "outputs": [],
   "source": [
    "df_taxi_clean = df_taxi.astype({'pickup': 'datetime64[ns]'})"
   ]
  },
  {
   "cell_type": "code",
   "execution_count": 12,
   "id": "602bdd64",
   "metadata": {
    "ExecuteTime": {
     "end_time": "2023-01-06T18:44:03.390421Z",
     "start_time": "2023-01-06T18:44:03.373411Z"
    }
   },
   "outputs": [
    {
     "data": {
      "text/plain": [
       "0   2019-03-23 20:21:09\n",
       "1   2019-03-04 16:11:55\n",
       "2   2019-03-27 17:53:01\n",
       "Name: pickup, dtype: datetime64[ns]"
      ]
     },
     "execution_count": 12,
     "metadata": {},
     "output_type": "execute_result"
    }
   ],
   "source": [
    "df_taxi_clean.pickup.head(3)"
   ]
  },
  {
   "cell_type": "markdown",
   "id": "5f019c84",
   "metadata": {
    "ExecuteTime": {
     "end_time": "2022-11-09T10:59:29.928470Z",
     "start_time": "2022-11-09T10:59:29.900101Z"
    }
   },
   "source": [
    "5.Аналітика по дням."
   ]
  },
  {
   "cell_type": "code",
   "execution_count": 13,
   "id": "a90ba5bf",
   "metadata": {
    "ExecuteTime": {
     "end_time": "2023-01-06T18:44:06.032445Z",
     "start_time": "2023-01-06T18:44:05.973404Z"
    }
   },
   "outputs": [],
   "source": [
    "df_taxi_clean['pickup_day'] = df_taxi_clean.pickup.dt.floor('d')"
   ]
  },
  {
   "cell_type": "code",
   "execution_count": 14,
   "id": "865f26d7",
   "metadata": {
    "ExecuteTime": {
     "end_time": "2023-01-06T18:44:09.853103Z",
     "start_time": "2023-01-06T18:44:06.605142Z"
    }
   },
   "outputs": [
    {
     "data": {
      "image/png": "[encoded data removed]",
      "text/plain": [
       "<Figure size 432x288 with 1 Axes>"
      ]
     },
     "metadata": {
      "needs_background": "light"
     },
     "output_type": "display_data"
    }
   ],
   "source": [
    "df_taxi_clean.groupby('pickup_day').total.sum().plot();\n"
   ]
  },
  {
   "cell_type": "markdown",
   "id": "34e03ad6",
   "metadata": {},
   "source": [
    "> КОМЕНТАР: Дивним здається різкий початок графіку близький до 0."
   ]
  },
  {
   "cell_type": "markdown",
   "id": "6f8776f2",
   "metadata": {},
   "source": [
    "6.Кількість рядків для кожного pickup_day."
   ]
  },
  {
   "cell_type": "code",
   "execution_count": 15,
   "id": "84bb36be",
   "metadata": {
    "ExecuteTime": {
     "end_time": "2023-01-06T18:44:13.769428Z",
     "start_time": "2023-01-06T18:44:13.749414Z"
    }
   },
   "outputs": [
    {
     "data": {
      "text/plain": [
       "2019-03-14    260\n",
       "2019-03-06    257\n",
       "2019-03-13    244\n",
       "2019-03-01    241\n",
       "2019-03-08    235\n",
       "2019-03-20    233\n",
       "2019-03-27    232\n",
       "2019-03-22    229\n",
       "2019-03-05    228\n",
       "2019-03-21    221\n",
       "2019-03-16    220\n",
       "2019-03-12    218\n",
       "2019-03-07    218\n",
       "2019-03-30    215\n",
       "2019-03-11    209\n",
       "2019-03-29    209\n",
       "2019-03-23    209\n",
       "2019-03-28    205\n",
       "2019-03-09    204\n",
       "2019-03-15    201\n",
       "2019-03-19    201\n",
       "2019-03-02    198\n",
       "2019-03-31    187\n",
       "2019-03-10    185\n",
       "2019-03-17    178\n",
       "2019-03-26    178\n",
       "2019-03-18    173\n",
       "2019-03-04    171\n",
       "2019-03-03    169\n",
       "2019-03-25    155\n",
       "2019-03-24    149\n",
       "2019-02-28      1\n",
       "Name: pickup_day, dtype: int64"
      ]
     },
     "execution_count": 15,
     "metadata": {},
     "output_type": "execute_result"
    }
   ],
   "source": [
    "df_taxi_clean.pickup_day.value_counts()"
   ]
  },
  {
   "cell_type": "markdown",
   "id": "a0150a06",
   "metadata": {},
   "source": [
    "Для дати 2019-02-28 є тільки один рядок. Це запис, який схоже, потрапив сюди випадково, тому видаляємо з набору даних df_taxi_clean рядок, що містить pickup_day рівний 2019-02-28. "
   ]
  },
  {
   "cell_type": "code",
   "execution_count": 16,
   "id": "31ed7225",
   "metadata": {
    "ExecuteTime": {
     "end_time": "2023-01-06T18:44:17.427795Z",
     "start_time": "2023-01-06T18:44:17.077563Z"
    }
   },
   "outputs": [
    {
     "data": {
      "image/png": "[encoded data removed]",
      "text/plain": [
       "<Figure size 432x288 with 1 Axes>"
      ]
     },
     "metadata": {
      "needs_background": "light"
     },
     "output_type": "display_data"
    }
   ],
   "source": [
    "df_taxi_clean = df_taxi_clean[df_taxi_clean.pickup_day !='2019-02-28']\n",
    "df_taxi_clean.groupby('pickup_day').total.sum().plot();\n"
   ]
  },
  {
   "cell_type": "markdown",
   "id": "2d8b34cc",
   "metadata": {},
   "source": [
    "7.Динаміка сумарних платежів по районам. "
   ]
  },
  {
   "cell_type": "code",
   "execution_count": 17,
   "id": "c6e638f9",
   "metadata": {
    "ExecuteTime": {
     "end_time": "2023-01-06T18:44:21.453242Z",
     "start_time": "2023-01-06T18:44:21.165237Z"
    }
   },
   "outputs": [
    {
     "data": {
      "text/html": [
       "<div>\n",
       "<style scoped>\n",
       "    .dataframe tbody tr th:only-of-type {\n",
       "        vertical-align: middle;\n",
       "    }\n",
       "\n",
       "    .dataframe tbody tr th {\n",
       "        vertical-align: top;\n",
       "    }\n",
       "\n",
       "    .dataframe thead th {\n",
       "        text-align: right;\n",
       "    }\n",
       "</style>\n",
       "<table border=\"1\" class=\"dataframe\">\n",
       "  <thead>\n",
       "    <tr style=\"text-align: right;\">\n",
       "      <th>pickup_borough</th>\n",
       "      <th>Bronx</th>\n",
       "      <th>Brooklyn</th>\n",
       "      <th>Manhattan</th>\n",
       "      <th>Queens</th>\n",
       "    </tr>\n",
       "    <tr>\n",
       "      <th>pickup_day</th>\n",
       "      <th></th>\n",
       "      <th></th>\n",
       "      <th></th>\n",
       "      <th></th>\n",
       "    </tr>\n",
       "  </thead>\n",
       "  <tbody>\n",
       "    <tr>\n",
       "      <th>2019-03-01</th>\n",
       "      <td>17.631429</td>\n",
       "      <td>20.767647</td>\n",
       "      <td>16.422124</td>\n",
       "      <td>25.149545</td>\n",
       "    </tr>\n",
       "    <tr>\n",
       "      <th>2019-03-02</th>\n",
       "      <td>NaN</td>\n",
       "      <td>14.656000</td>\n",
       "      <td>15.884971</td>\n",
       "      <td>26.831176</td>\n",
       "    </tr>\n",
       "    <tr>\n",
       "      <th>2019-03-03</th>\n",
       "      <td>26.916667</td>\n",
       "      <td>18.502727</td>\n",
       "      <td>16.280853</td>\n",
       "      <td>30.623571</td>\n",
       "    </tr>\n",
       "    <tr>\n",
       "      <th>2019-03-04</th>\n",
       "      <td>18.400000</td>\n",
       "      <td>18.873000</td>\n",
       "      <td>15.466947</td>\n",
       "      <td>38.487200</td>\n",
       "    </tr>\n",
       "    <tr>\n",
       "      <th>2019-03-05</th>\n",
       "      <td>49.080000</td>\n",
       "      <td>29.389474</td>\n",
       "      <td>16.655084</td>\n",
       "      <td>26.412857</td>\n",
       "    </tr>\n",
       "    <tr>\n",
       "      <th>2019-03-06</th>\n",
       "      <td>32.662500</td>\n",
       "      <td>13.235333</td>\n",
       "      <td>16.592749</td>\n",
       "      <td>32.052308</td>\n",
       "    </tr>\n",
       "    <tr>\n",
       "      <th>2019-03-07</th>\n",
       "      <td>NaN</td>\n",
       "      <td>27.546875</td>\n",
       "      <td>16.512406</td>\n",
       "      <td>39.142000</td>\n",
       "    </tr>\n",
       "    <tr>\n",
       "      <th>2019-03-08</th>\n",
       "      <td>19.800000</td>\n",
       "      <td>21.588182</td>\n",
       "      <td>17.303807</td>\n",
       "      <td>35.470000</td>\n",
       "    </tr>\n",
       "    <tr>\n",
       "      <th>2019-03-09</th>\n",
       "      <td>20.055000</td>\n",
       "      <td>20.875556</td>\n",
       "      <td>17.355029</td>\n",
       "      <td>28.429444</td>\n",
       "    </tr>\n",
       "    <tr>\n",
       "      <th>2019-03-10</th>\n",
       "      <td>39.953333</td>\n",
       "      <td>16.048000</td>\n",
       "      <td>15.282143</td>\n",
       "      <td>29.096471</td>\n",
       "    </tr>\n",
       "    <tr>\n",
       "      <th>2019-03-11</th>\n",
       "      <td>23.020000</td>\n",
       "      <td>19.609231</td>\n",
       "      <td>17.657836</td>\n",
       "      <td>31.705000</td>\n",
       "    </tr>\n",
       "    <tr>\n",
       "      <th>2019-03-12</th>\n",
       "      <td>15.915000</td>\n",
       "      <td>14.430909</td>\n",
       "      <td>15.825847</td>\n",
       "      <td>29.671429</td>\n",
       "    </tr>\n",
       "    <tr>\n",
       "      <th>2019-03-13</th>\n",
       "      <td>42.440000</td>\n",
       "      <td>17.980000</td>\n",
       "      <td>18.003220</td>\n",
       "      <td>39.870476</td>\n",
       "    </tr>\n",
       "    <tr>\n",
       "      <th>2019-03-14</th>\n",
       "      <td>20.632500</td>\n",
       "      <td>15.990000</td>\n",
       "      <td>16.866776</td>\n",
       "      <td>30.565000</td>\n",
       "    </tr>\n",
       "    <tr>\n",
       "      <th>2019-03-15</th>\n",
       "      <td>23.580000</td>\n",
       "      <td>30.628182</td>\n",
       "      <td>18.164940</td>\n",
       "      <td>30.411176</td>\n",
       "    </tr>\n",
       "    <tr>\n",
       "      <th>2019-03-16</th>\n",
       "      <td>17.400000</td>\n",
       "      <td>17.590526</td>\n",
       "      <td>15.976243</td>\n",
       "      <td>27.064231</td>\n",
       "    </tr>\n",
       "    <tr>\n",
       "      <th>2019-03-17</th>\n",
       "      <td>32.315000</td>\n",
       "      <td>23.845714</td>\n",
       "      <td>16.425608</td>\n",
       "      <td>38.426667</td>\n",
       "    </tr>\n",
       "    <tr>\n",
       "      <th>2019-03-18</th>\n",
       "      <td>11.550000</td>\n",
       "      <td>16.508750</td>\n",
       "      <td>17.096143</td>\n",
       "      <td>31.717727</td>\n",
       "    </tr>\n",
       "    <tr>\n",
       "      <th>2019-03-19</th>\n",
       "      <td>20.785000</td>\n",
       "      <td>12.138750</td>\n",
       "      <td>16.644356</td>\n",
       "      <td>42.873889</td>\n",
       "    </tr>\n",
       "    <tr>\n",
       "      <th>2019-03-20</th>\n",
       "      <td>17.480000</td>\n",
       "      <td>12.552500</td>\n",
       "      <td>17.614456</td>\n",
       "      <td>35.310000</td>\n",
       "    </tr>\n",
       "    <tr>\n",
       "      <th>2019-03-21</th>\n",
       "      <td>32.560000</td>\n",
       "      <td>19.467692</td>\n",
       "      <td>18.530757</td>\n",
       "      <td>30.118571</td>\n",
       "    </tr>\n",
       "    <tr>\n",
       "      <th>2019-03-22</th>\n",
       "      <td>17.765000</td>\n",
       "      <td>20.504375</td>\n",
       "      <td>16.518737</td>\n",
       "      <td>35.390476</td>\n",
       "    </tr>\n",
       "    <tr>\n",
       "      <th>2019-03-23</th>\n",
       "      <td>21.090000</td>\n",
       "      <td>14.838462</td>\n",
       "      <td>15.326941</td>\n",
       "      <td>19.670556</td>\n",
       "    </tr>\n",
       "    <tr>\n",
       "      <th>2019-03-24</th>\n",
       "      <td>7.300000</td>\n",
       "      <td>15.003333</td>\n",
       "      <td>15.696991</td>\n",
       "      <td>30.029048</td>\n",
       "    </tr>\n",
       "    <tr>\n",
       "      <th>2019-03-25</th>\n",
       "      <td>35.617500</td>\n",
       "      <td>21.324286</td>\n",
       "      <td>15.815120</td>\n",
       "      <td>32.048421</td>\n",
       "    </tr>\n",
       "    <tr>\n",
       "      <th>2019-03-26</th>\n",
       "      <td>10.900000</td>\n",
       "      <td>17.345000</td>\n",
       "      <td>16.471389</td>\n",
       "      <td>36.321364</td>\n",
       "    </tr>\n",
       "    <tr>\n",
       "      <th>2019-03-27</th>\n",
       "      <td>22.911250</td>\n",
       "      <td>14.196667</td>\n",
       "      <td>17.188698</td>\n",
       "      <td>35.038261</td>\n",
       "    </tr>\n",
       "    <tr>\n",
       "      <th>2019-03-28</th>\n",
       "      <td>36.265000</td>\n",
       "      <td>16.910714</td>\n",
       "      <td>16.953865</td>\n",
       "      <td>31.295385</td>\n",
       "    </tr>\n",
       "    <tr>\n",
       "      <th>2019-03-29</th>\n",
       "      <td>12.636000</td>\n",
       "      <td>23.194000</td>\n",
       "      <td>16.410944</td>\n",
       "      <td>34.014118</td>\n",
       "    </tr>\n",
       "    <tr>\n",
       "      <th>2019-03-30</th>\n",
       "      <td>3.800000</td>\n",
       "      <td>23.982667</td>\n",
       "      <td>16.775698</td>\n",
       "      <td>26.718750</td>\n",
       "    </tr>\n",
       "    <tr>\n",
       "      <th>2019-03-31</th>\n",
       "      <td>48.560000</td>\n",
       "      <td>18.976923</td>\n",
       "      <td>15.303725</td>\n",
       "      <td>23.605500</td>\n",
       "    </tr>\n",
       "  </tbody>\n",
       "</table>\n",
       "</div>"
      ],
      "text/plain": [
       "pickup_borough      Bronx   Brooklyn  Manhattan     Queens\n",
       "pickup_day                                                \n",
       "2019-03-01      17.631429  20.767647  16.422124  25.149545\n",
       "2019-03-02            NaN  14.656000  15.884971  26.831176\n",
       "2019-03-03      26.916667  18.502727  16.280853  30.623571\n",
       "2019-03-04      18.400000  18.873000  15.466947  38.487200\n",
       "2019-03-05      49.080000  29.389474  16.655084  26.412857\n",
       "2019-03-06      32.662500  13.235333  16.592749  32.052308\n",
       "2019-03-07            NaN  27.546875  16.512406  39.142000\n",
       "2019-03-08      19.800000  21.588182  17.303807  35.470000\n",
       "2019-03-09      20.055000  20.875556  17.355029  28.429444\n",
       "2019-03-10      39.953333  16.048000  15.282143  29.096471\n",
       "2019-03-11      23.020000  19.609231  17.657836  31.705000\n",
       "2019-03-12      15.915000  14.430909  15.825847  29.671429\n",
       "2019-03-13      42.440000  17.980000  18.003220  39.870476\n",
       "2019-03-14      20.632500  15.990000  16.866776  30.565000\n",
       "2019-03-15      23.580000  30.628182  18.164940  30.411176\n",
       "2019-03-16      17.400000  17.590526  15.976243  27.064231\n",
       "2019-03-17      32.315000  23.845714  16.425608  38.426667\n",
       "2019-03-18      11.550000  16.508750  17.096143  31.717727\n",
       "2019-03-19      20.785000  12.138750  16.644356  42.873889\n",
       "2019-03-20      17.480000  12.552500  17.614456  35.310000\n",
       "2019-03-21      32.560000  19.467692  18.530757  30.118571\n",
       "2019-03-22      17.765000  20.504375  16.518737  35.390476\n",
       "2019-03-23      21.090000  14.838462  15.326941  19.670556\n",
       "2019-03-24       7.300000  15.003333  15.696991  30.029048\n",
       "2019-03-25      35.617500  21.324286  15.815120  32.048421\n",
       "2019-03-26      10.900000  17.345000  16.471389  36.321364\n",
       "2019-03-27      22.911250  14.196667  17.188698  35.038261\n",
       "2019-03-28      36.265000  16.910714  16.953865  31.295385\n",
       "2019-03-29      12.636000  23.194000  16.410944  34.014118\n",
       "2019-03-30       3.800000  23.982667  16.775698  26.718750\n",
       "2019-03-31      48.560000  18.976923  15.303725  23.605500"
      ]
     },
     "execution_count": 17,
     "metadata": {},
     "output_type": "execute_result"
    }
   ],
   "source": [
    "borough_pivot = df_taxi_clean.pivot_table(index='pickup_day', columns = 'pickup_borough', values = 'total')\n",
    "borough_pivot"
   ]
  },
  {
   "cell_type": "markdown",
   "id": "73c570a1",
   "metadata": {},
   "source": [
    "В якому районі найчастіше найбільша сума денних платежів за поїздки на таксі?   "
   ]
  },
  {
   "cell_type": "code",
   "execution_count": 18,
   "id": "e1213445",
   "metadata": {
    "ExecuteTime": {
     "end_time": "2023-01-06T18:44:25.641350Z",
     "start_time": "2023-01-06T18:44:25.190048Z"
    }
   },
   "outputs": [
    {
     "data": {
      "image/png": "[encoded data removed]",
      "text/plain": [
       "<Figure size 432x288 with 1 Axes>"
      ]
     },
     "metadata": {
      "needs_background": "light"
     },
     "output_type": "display_data"
    }
   ],
   "source": [
    "borough_pivot.fillna(0).plot();\n"
   ]
  },
  {
   "cell_type": "markdown",
   "id": "a751607a",
   "metadata": {},
   "source": [
    ">КОМЕНТАР: Найчастіше найбільша сума денних платежів у районі Queens.\n",
    "Застосуванням fillna(0) замінили значення пустих клітинок на 0, тому на графіку лінія Bronx не переривається, а спадає до нуля."
   ]
  },
  {
   "cell_type": "markdown",
   "id": "c135fa0d",
   "metadata": {
    "ExecuteTime": {
     "end_time": "2022-11-09T11:14:40.876868Z",
     "start_time": "2022-11-09T11:14:40.791548Z"
    }
   },
   "source": [
    "8.Виведено гістограми суми денних платежів за поїздки по кожному з районів. "
   ]
  },
  {
   "cell_type": "code",
   "execution_count": 19,
   "id": "5e877526",
   "metadata": {
    "ExecuteTime": {
     "end_time": "2022-11-25T11:21:48.036896Z",
     "start_time": "2022-11-25T11:21:47.209343Z"
    }
   },
   "outputs": [
    {
     "data": {
      "image/png": "[encoded data removed]",
      "text/plain": [
       "<Figure size 576x360 with 4 Axes>"
      ]
     },
     "metadata": {
      "needs_background": "light"
     },
     "output_type": "display_data"
    }
   ],
   "source": [
    "df_bp = pd.DataFrame(borough_pivot)\n",
    "df_bp.hist(figsize = (8, 5), bins=8);"
   ]
  },
  {
   "cell_type": "markdown",
   "id": "21dad7f0",
   "metadata": {},
   "source": [
    "9.Бачимо, що на окремих гістограмах у нас різні діапазони чеків. Припустимо, нам хочеться порівняти розподіли денних сум платежів по районам. "
   ]
  },
  {
   "cell_type": "code",
   "execution_count": 20,
   "id": "1b2c5ee9",
   "metadata": {
    "ExecuteTime": {
     "end_time": "2022-11-25T11:21:48.491198Z",
     "start_time": "2022-11-25T11:21:48.040897Z"
    }
   },
   "outputs": [
    {
     "data": {
      "image/png": "[encoded data removed]",
      "text/plain": [
       "<Figure size 720x576 with 1 Axes>"
      ]
     },
     "metadata": {
      "needs_background": "light"
     },
     "output_type": "display_data"
    }
   ],
   "source": [
    "plt.figure(figsize = (10,8))\n",
    "for col in df_bp.columns:\n",
    "    plt.hist(df_bp[col], bins = 6, alpha = 0.3, label = col)\n",
    "plt.xlabel('Daily total')\n",
    "plt.ylabel('Count of rides')\n",
    "plt.title('Daily total distributions by boroughs')\n",
    "plt.legend()\n",
    "plt.grid()\n",
    "plt.show();"
   ]
  },
  {
   "cell_type": "markdown",
   "id": "bcd7d182",
   "metadata": {},
   "source": [
    "А ось приклад, як можна було сформувати щось подібне з допомогою функціоналу seaborn. "
   ]
  },
  {
   "cell_type": "code",
   "execution_count": 21,
   "id": "5755bcdc",
   "metadata": {
    "ExecuteTime": {
     "end_time": "2022-11-25T11:21:49.192269Z",
     "start_time": "2022-11-25T11:21:48.495200Z"
    }
   },
   "outputs": [
    {
     "data": {
      "image/png": "[encoded data removed]",
      "text/plain": [
       "<Figure size 432x288 with 1 Axes>"
      ]
     },
     "metadata": {
      "needs_background": "light"
     },
     "output_type": "display_data"
    }
   ],
   "source": [
    "sns.histplot(data=borough_pivot, bins=6);"
   ]
  },
  {
   "cell_type": "code",
   "execution_count": 22,
   "id": "17feaf9d",
   "metadata": {
    "ExecuteTime": {
     "end_time": "2022-11-25T11:21:49.642603Z",
     "start_time": "2022-11-25T11:21:49.196271Z"
    }
   },
   "outputs": [
    {
     "data": {
      "image/png": "[encoded data removed]",
      "text/plain": [
       "<Figure size 432x288 with 1 Axes>"
      ]
     },
     "metadata": {
      "needs_background": "light"
     },
     "output_type": "display_data"
    }
   ],
   "source": [
    "sns.histplot(data=borough_pivot, element=\"step\");"
   ]
  },
  {
   "cell_type": "markdown",
   "id": "a412e684",
   "metadata": {},
   "source": [
    "10.З допомогою seaborn виведено гістограми суми щомісячних платежів по кольорам автомобілів (колонка `color`). "
   ]
  },
  {
   "cell_type": "code",
   "execution_count": 23,
   "id": "dcf09516",
   "metadata": {
    "ExecuteTime": {
     "end_time": "2022-11-25T11:21:51.977033Z",
     "start_time": "2022-11-25T11:21:49.650610Z"
    },
    "scrolled": true
   },
   "outputs": [
    {
     "data": {
      "image/png": "[encoded data removed]",
      "text/plain": [
       "<Figure size 2000x1000 with 1 Axes>"
      ]
     },
     "metadata": {
      "needs_background": "light"
     },
     "output_type": "display_data"
    }
   ],
   "source": [
    "plt.figure(figsize = (10,5), dpi = 200)\n",
    "sns.histplot(data=df_taxi_clean.sort_values(by ='color'), x = 'total', hue = 'color', edgecolor = 'black');\n"
   ]
  },
  {
   "cell_type": "markdown",
   "id": "a707ff8c",
   "metadata": {},
   "source": [
    "11.Цікаво, а чи є залежність між дальністю поїздки і розміром чайових? Побудовано діаграму розсіювання між дальністю поїздки і розміром чайових. "
   ]
  },
  {
   "cell_type": "code",
   "execution_count": 22,
   "id": "96decb60",
   "metadata": {
    "ExecuteTime": {
     "end_time": "2023-01-06T18:49:26.931919Z",
     "start_time": "2023-01-06T18:49:25.971279Z"
    }
   },
   "outputs": [
    {
     "data": {
      "image/png": "[encoded data removed]",
      "text/plain": [
       "<Figure size 432x288 with 1 Axes>"
      ]
     },
     "metadata": {},
     "output_type": "display_data"
    }
   ],
   "source": [
    "sns.set_theme(style='ticks')\n",
    "sns.regplot(data = df_taxi_clean, x='tip', y='distance', line_kws = {'color':'red'});"
   ]
  },
  {
   "cell_type": "markdown",
   "id": "6d44f13d",
   "metadata": {
    "ExecuteTime": {
     "end_time": "2022-11-10T15:11:02.637392Z",
     "start_time": "2022-11-10T15:11:02.629407Z"
    }
   },
   "source": [
    "12.Побудовано поденну динаміку чайових по районам, в яких забрали пасажира:\n",
    "- при початку поїздки в якому районі **найрідше** дають чайові?\n",
    "- а в поїздках з якого району **найчастіше** дають чайові? \n",
    "- при проїздках з його району розмір чайових найстабільніший (найменше змінюється з дня у день)?"
   ]
  },
  {
   "cell_type": "code",
   "execution_count": 25,
   "id": "d26295c5",
   "metadata": {
    "ExecuteTime": {
     "end_time": "2022-11-25T11:21:54.559174Z",
     "start_time": "2022-11-25T11:21:53.974458Z"
    }
   },
   "outputs": [
    {
     "data": {
      "image/png": "[encoded data removed]",
      "text/plain": [
       "<Figure size 432x288 with 1 Axes>"
      ]
     },
     "metadata": {},
     "output_type": "display_data"
    }
   ],
   "source": [
    "borough_pivot2 = df_taxi_clean.pivot_table(index='pickup_day', columns = 'pickup_borough', values = 'tip')\n",
    "borough_pivot2.fillna(0).plot()\n",
    "plt.ylabel('tip');"
   ]
  },
  {
   "cell_type": "markdown",
   "id": "c177c6b2",
   "metadata": {},
   "source": [
    ">ВІДПОВІДІ:\n",
    "    - найрідше дають чайові в районі Bronx;\n",
    "    - найчастіше дають чайові в поїздках з району Queens;\n",
    "    - найстабільніший розмір чайових в районі Manhattan.\n"
   ]
  },
  {
   "cell_type": "markdown",
   "id": "974b34b2",
   "metadata": {},
   "source": [
    "13.Побудуйте box-plot розміру чайових по району старту поїздки. Можна побудувати графік будь-яким методом, який вам до вподоби, чи хочеться потренувати. "
   ]
  },
  {
   "cell_type": "code",
   "execution_count": 23,
   "id": "172e6462",
   "metadata": {
    "ExecuteTime": {
     "end_time": "2023-01-06T18:52:58.849211Z",
     "start_time": "2023-01-06T18:52:58.578029Z"
    }
   },
   "outputs": [
    {
     "data": {
      "image/png": "[encoded data removed]",
      "text/plain": [
       "<Figure size 432x288 with 1 Axes>"
      ]
     },
     "metadata": {},
     "output_type": "display_data"
    }
   ],
   "source": [
    "sns.set_theme(style ='ticks')\n",
    "sns.boxplot(y='tip', x='pickup_borough', data= df_taxi_clean)\n",
    "plt.xticks(rotation=45, ha='right');"
   ]
  },
  {
   "cell_type": "markdown",
   "id": "b2545add",
   "metadata": {
    "ExecuteTime": {
     "end_time": "2022-11-10T15:28:51.686760Z",
     "start_time": "2022-11-10T15:28:51.676955Z"
    }
   },
   "source": [
    "14. Первіримо можливі гіпотези напявності чайових: 1.у разі оплати клієнтом платних доріг, то задля економії чайові водію не залишають; 2.при більшій дистанції чайові зростають; 3.чим більша плата за поїдку, тим більші чайові. "
   ]
  },
  {
   "cell_type": "code",
   "execution_count": 27,
   "id": "a313686b",
   "metadata": {
    "ExecuteTime": {
     "end_time": "2022-11-25T11:21:55.574859Z",
     "start_time": "2022-11-25T11:21:54.981072Z"
    }
   },
   "outputs": [
    {
     "data": {
      "image/png": "[encoded data removed]",
      "text/plain": [
       "<Figure size 720x576 with 2 Axes>"
      ]
     },
     "metadata": {},
     "output_type": "display_data"
    }
   ],
   "source": [
    "import numpy as np\n",
    "\n",
    "corr_data = df_taxi_clean[['fare', 'distance', 'tolls', 'tip']]\n",
    "plt.figure(figsize=(10,8))\n",
    "matrix = np.triu(corr_data.corr())\n",
    "sns.heatmap(corr_data.corr(), annot = True, linewidth = .8, mask = matrix, cmap = 'rocket');"
   ]
  },
  {
   "cell_type": "markdown",
   "id": "25450daa",
   "metadata": {},
   "source": [
    "З огляду на створену теплову мапу можна зробити висновки, що розмір чайових має слабку залежність від відстані, плати по тарифу чи проїзду по платним дорогам.\n",
    "Високий показник кореляції між відстанню та платою, що цілком зрозуміло, адже вартість поїздки напряму залежить від довжини маршруту."
   ]
  },
  {
   "cell_type": "markdown",
   "id": "65a956e4",
   "metadata": {
    "ExecuteTime": {
     "end_time": "2022-11-24T20:26:35.064661Z",
     "start_time": "2022-11-24T20:26:34.892776Z"
    }
   },
   "source": [
    "15. Які найбільш популярні маршрути таксі?"
   ]
  },
  {
   "cell_type": "code",
   "execution_count": 28,
   "id": "4f226b9f",
   "metadata": {
    "ExecuteTime": {
     "end_time": "2022-11-25T11:21:56.012376Z",
     "start_time": "2022-11-25T11:21:55.590479Z"
    }
   },
   "outputs": [
    {
     "data": {
      "image/png": "[encoded data removed]",
      "text/plain": [
       "<Figure size 432x288 with 1 Axes>"
      ]
     },
     "metadata": {},
     "output_type": "display_data"
    }
   ],
   "source": [
    "#додала колонку з можливими маршрутами таксі\n",
    "df_taxi_clean.insert(loc=12, column=\"route\", value=df_taxi_clean.pickup_borough + '-' + df_taxi_clean.dropoff_borough)\n",
    "df_taxi_clean.route.value_counts().plot.barh();\n",
    "\n"
   ]
  },
  {
   "cell_type": "markdown",
   "id": "aafbd8b1",
   "metadata": {
    "ExecuteTime": {
     "end_time": "2022-11-24T21:35:25.005350Z",
     "start_time": "2022-11-24T21:35:24.974096Z"
    }
   },
   "source": [
    ">ВИСНОВКИ: Найбільш популярними в даній компанії таксі являються поїздки в межах міського округу Манхеттен за маршрутом Manhattan-Manhattan - близько 5 тисяч поїздок за місяць. Також на візуалізації можна відмітити поодинокі випадки поїздок по маршрутах:Queens-Bronx, Brooklyn-Bronx, Bronx-Queens, Bronx-Brooklyn, Manhattan-Staten Island. Наведені статистичні дані допоможуть для прийняття управлінського рішення щодо раціонального розміщення транспорту - найбільше машин розмістити в районі, де найбільший попит та перевірити чи не пов'язаний низький попит з нестачею авто в певному районі."
   ]
  },
  {
   "cell_type": "markdown",
   "id": "4eb23965",
   "metadata": {},
   "source": [
    "16. Які маршртути мають найбільшу середню вартість поїздки?"
   ]
  },
  {
   "cell_type": "code",
   "execution_count": 33,
   "id": "8b0745eb",
   "metadata": {
    "ExecuteTime": {
     "end_time": "2022-11-25T11:27:12.877335Z",
     "start_time": "2022-11-25T11:27:11.314755Z"
    },
    "scrolled": true
   },
   "outputs": [
    {
     "data": {
      "image/png": "[encoded data removed]",
      "text/plain": [
       "<Figure size 432x288 with 1 Axes>"
      ]
     },
     "metadata": {},
     "output_type": "display_data"
    }
   ],
   "source": [
    "sns.barplot(x='total', y='route', data = df_taxi_clean.sort_values(by='total'));"
   ]
  },
  {
   "cell_type": "markdown",
   "id": "70a6af00",
   "metadata": {},
   "source": [
    ">ВИСНОВКИ: Найбільша середня вартість поїздки припадає на маршрути Manhattan-Staten Island, Bronx-Brooklyn, Brooklyn-Bronx, Queens-Bronx, Bronx-Queens.Якщо повернутись до візуалізації 2, то перелічені маршрути найменш популярні, отже одним із факторів низького попиту може бути висока вартість поїдки. А, наприклад, маршрут Manhattan-Manhattan є одним із найдешевших та найбільш популярних не лише через локацію, а і приємну вартість.\n"
   ]
  }
 ],
 "metadata": {
  "kernelspec": {
   "display_name": "Python 3 (ipykernel)",
   "language": "python",
   "name": "python3"
  },
  "language_info": {
   "codemirror_mode": {
    "name": "ipython",
    "version": 3
   },
   "file_extension": ".py",
   "mimetype": "text/x-python",
   "name": "python",
   "nbconvert_exporter": "python",
   "pygments_lexer": "ipython3",
   "version": "3.9.12"
  },
  "toc": {
   "base_numbering": 1,
   "nav_menu": {},
   "number_sections": true,
   "sideBar": true,
   "skip_h1_title": false,
   "title_cell": "Table of Contents",
   "title_sidebar": "Contents",
   "toc_cell": false,
   "toc_position": {},
   "toc_section_display": true,
   "toc_window_display": false
  },
  "vscode": {
   "interpreter": {
    "hash": "a6511e6b41b26ba86cca7483749cf4dd15bf137a2672e550741a656e19bba82e"
   }
  }
 },
 "nbformat": 4,
 "nbformat_minor": 5
}

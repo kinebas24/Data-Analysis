{
 "cells": [
  {
   "cell_type": "markdown",
   "id": "6bbb4b6a",
   "metadata": {},
   "source": [
    "# Pandas"
   ]
  },
  {
   "cell_type": "markdown",
   "id": "7ef4e602",
   "metadata": {},
   "source": [
    "Дані взяті з Kaggle, за [посиланням](https://www.kaggle.com/aungpyaeap/supermarket-sales) "
   ]
  },
  {
   "cell_type": "markdown",
   "id": "44597d8f",
   "metadata": {
    "ExecuteTime": {
     "end_time": "2021-09-20T19:43:50.443031Z",
     "start_time": "2021-09-20T19:43:50.439600Z"
    }
   },
   "source": [
    "1.За допомогою бібліотеки Pandas, зчитано набір даних із файлу 'supermarket_sales.csv'."
   ]
  },
  {
   "cell_type": "code",
   "execution_count": 1,
   "id": "acaf127d",
   "metadata": {
    "ExecuteTime": {
     "end_time": "2023-01-06T18:27:24.262262Z",
     "start_time": "2023-01-06T18:27:02.950819Z"
    }
   },
   "outputs": [],
   "source": [
    "import pandas as pd\n",
    "import numpy as np\n",
    "df = pd.read_csv('supermarket_sales.csv')"
   ]
  },
  {
   "cell_type": "markdown",
   "id": "ca064875",
   "metadata": {
    "ExecuteTime": {
     "end_time": "2021-09-20T19:44:56.499824Z",
     "start_time": "2021-09-20T19:44:56.496923Z"
    }
   },
   "source": [
    "2.За допомогою бібліотеки Pandas виведено перші 5 і останні 5 записів у наборі даних."
   ]
  },
  {
   "cell_type": "code",
   "execution_count": 20,
   "id": "d095f26b",
   "metadata": {
    "ExecuteTime": {
     "end_time": "2021-12-08T18:46:42.601691Z",
     "start_time": "2021-12-08T18:46:42.570962Z"
    }
   },
   "outputs": [
    {
     "data": {
      "text/html": [
       "<div>\n",
       "<style scoped>\n",
       "    .dataframe tbody tr th:only-of-type {\n",
       "        vertical-align: middle;\n",
       "    }\n",
       "\n",
       "    .dataframe tbody tr th {\n",
       "        vertical-align: top;\n",
       "    }\n",
       "\n",
       "    .dataframe thead th {\n",
       "        text-align: right;\n",
       "    }\n",
       "</style>\n",
       "<table border=\"1\" class=\"dataframe\">\n",
       "  <thead>\n",
       "    <tr style=\"text-align: right;\">\n",
       "      <th></th>\n",
       "      <th>Invoice ID</th>\n",
       "      <th>Branch</th>\n",
       "      <th>City</th>\n",
       "      <th>Customer type</th>\n",
       "      <th>Gender</th>\n",
       "      <th>Product line</th>\n",
       "      <th>Unit price</th>\n",
       "      <th>Quantity</th>\n",
       "      <th>Tax 5%</th>\n",
       "      <th>Total</th>\n",
       "      <th>Date</th>\n",
       "      <th>Time</th>\n",
       "      <th>Payment</th>\n",
       "      <th>cogs</th>\n",
       "      <th>gross margin percentage</th>\n",
       "      <th>gross income</th>\n",
       "      <th>Rating</th>\n",
       "    </tr>\n",
       "  </thead>\n",
       "  <tbody>\n",
       "    <tr>\n",
       "      <th>0</th>\n",
       "      <td>750-67-8428</td>\n",
       "      <td>A</td>\n",
       "      <td>Yangon</td>\n",
       "      <td>Member</td>\n",
       "      <td>Female</td>\n",
       "      <td>Health and beauty</td>\n",
       "      <td>74.69</td>\n",
       "      <td>7</td>\n",
       "      <td>26.1415</td>\n",
       "      <td>548.9715</td>\n",
       "      <td>1/5/2019</td>\n",
       "      <td>13:08</td>\n",
       "      <td>Ewallet</td>\n",
       "      <td>522.83</td>\n",
       "      <td>4.761905</td>\n",
       "      <td>26.1415</td>\n",
       "      <td>9.1</td>\n",
       "    </tr>\n",
       "    <tr>\n",
       "      <th>1</th>\n",
       "      <td>226-31-3081</td>\n",
       "      <td>C</td>\n",
       "      <td>Naypyitaw</td>\n",
       "      <td>Normal</td>\n",
       "      <td>Female</td>\n",
       "      <td>Electronic accessories</td>\n",
       "      <td>15.28</td>\n",
       "      <td>5</td>\n",
       "      <td>3.8200</td>\n",
       "      <td>80.2200</td>\n",
       "      <td>3/8/2019</td>\n",
       "      <td>10:29</td>\n",
       "      <td>Cash</td>\n",
       "      <td>76.40</td>\n",
       "      <td>4.761905</td>\n",
       "      <td>3.8200</td>\n",
       "      <td>9.6</td>\n",
       "    </tr>\n",
       "    <tr>\n",
       "      <th>2</th>\n",
       "      <td>631-41-3108</td>\n",
       "      <td>A</td>\n",
       "      <td>Yangon</td>\n",
       "      <td>Normal</td>\n",
       "      <td>Male</td>\n",
       "      <td>Home and lifestyle</td>\n",
       "      <td>46.33</td>\n",
       "      <td>7</td>\n",
       "      <td>16.2155</td>\n",
       "      <td>340.5255</td>\n",
       "      <td>3/3/2019</td>\n",
       "      <td>13:23</td>\n",
       "      <td>Credit card</td>\n",
       "      <td>324.31</td>\n",
       "      <td>4.761905</td>\n",
       "      <td>16.2155</td>\n",
       "      <td>7.4</td>\n",
       "    </tr>\n",
       "    <tr>\n",
       "      <th>3</th>\n",
       "      <td>123-19-1176</td>\n",
       "      <td>A</td>\n",
       "      <td>Yangon</td>\n",
       "      <td>Member</td>\n",
       "      <td>Male</td>\n",
       "      <td>Health and beauty</td>\n",
       "      <td>58.22</td>\n",
       "      <td>8</td>\n",
       "      <td>23.2880</td>\n",
       "      <td>489.0480</td>\n",
       "      <td>1/27/2019</td>\n",
       "      <td>20:33</td>\n",
       "      <td>Ewallet</td>\n",
       "      <td>465.76</td>\n",
       "      <td>4.761905</td>\n",
       "      <td>23.2880</td>\n",
       "      <td>8.4</td>\n",
       "    </tr>\n",
       "    <tr>\n",
       "      <th>4</th>\n",
       "      <td>373-73-7910</td>\n",
       "      <td>A</td>\n",
       "      <td>Yangon</td>\n",
       "      <td>Normal</td>\n",
       "      <td>Male</td>\n",
       "      <td>Sports and travel</td>\n",
       "      <td>86.31</td>\n",
       "      <td>7</td>\n",
       "      <td>30.2085</td>\n",
       "      <td>634.3785</td>\n",
       "      <td>2/8/2019</td>\n",
       "      <td>10:37</td>\n",
       "      <td>Ewallet</td>\n",
       "      <td>604.17</td>\n",
       "      <td>4.761905</td>\n",
       "      <td>30.2085</td>\n",
       "      <td>5.3</td>\n",
       "    </tr>\n",
       "  </tbody>\n",
       "</table>\n",
       "</div>"
      ],
      "text/plain": [
       "    Invoice ID Branch       City Customer type  Gender  \\\n",
       "0  750-67-8428      A     Yangon        Member  Female   \n",
       "1  226-31-3081      C  Naypyitaw        Normal  Female   \n",
       "2  631-41-3108      A     Yangon        Normal    Male   \n",
       "3  123-19-1176      A     Yangon        Member    Male   \n",
       "4  373-73-7910      A     Yangon        Normal    Male   \n",
       "\n",
       "             Product line  Unit price  Quantity   Tax 5%     Total       Date  \\\n",
       "0       Health and beauty       74.69         7  26.1415  548.9715   1/5/2019   \n",
       "1  Electronic accessories       15.28         5   3.8200   80.2200   3/8/2019   \n",
       "2      Home and lifestyle       46.33         7  16.2155  340.5255   3/3/2019   \n",
       "3       Health and beauty       58.22         8  23.2880  489.0480  1/27/2019   \n",
       "4       Sports and travel       86.31         7  30.2085  634.3785   2/8/2019   \n",
       "\n",
       "    Time      Payment    cogs  gross margin percentage  gross income  Rating  \n",
       "0  13:08      Ewallet  522.83                 4.761905       26.1415     9.1  \n",
       "1  10:29         Cash   76.40                 4.761905        3.8200     9.6  \n",
       "2  13:23  Credit card  324.31                 4.761905       16.2155     7.4  \n",
       "3  20:33      Ewallet  465.76                 4.761905       23.2880     8.4  \n",
       "4  10:37      Ewallet  604.17                 4.761905       30.2085     5.3  "
      ]
     },
     "metadata": {},
     "output_type": "display_data"
    },
    {
     "data": {
      "text/html": [
       "<div>\n",
       "<style scoped>\n",
       "    .dataframe tbody tr th:only-of-type {\n",
       "        vertical-align: middle;\n",
       "    }\n",
       "\n",
       "    .dataframe tbody tr th {\n",
       "        vertical-align: top;\n",
       "    }\n",
       "\n",
       "    .dataframe thead th {\n",
       "        text-align: right;\n",
       "    }\n",
       "</style>\n",
       "<table border=\"1\" class=\"dataframe\">\n",
       "  <thead>\n",
       "    <tr style=\"text-align: right;\">\n",
       "      <th></th>\n",
       "      <th>Invoice ID</th>\n",
       "      <th>Branch</th>\n",
       "      <th>City</th>\n",
       "      <th>Customer type</th>\n",
       "      <th>Gender</th>\n",
       "      <th>Product line</th>\n",
       "      <th>Unit price</th>\n",
       "      <th>Quantity</th>\n",
       "      <th>Tax 5%</th>\n",
       "      <th>Total</th>\n",
       "      <th>Date</th>\n",
       "      <th>Time</th>\n",
       "      <th>Payment</th>\n",
       "      <th>cogs</th>\n",
       "      <th>gross margin percentage</th>\n",
       "      <th>gross income</th>\n",
       "      <th>Rating</th>\n",
       "    </tr>\n",
       "  </thead>\n",
       "  <tbody>\n",
       "    <tr>\n",
       "      <th>995</th>\n",
       "      <td>233-67-5758</td>\n",
       "      <td>C</td>\n",
       "      <td>Naypyitaw</td>\n",
       "      <td>Normal</td>\n",
       "      <td>Male</td>\n",
       "      <td>Health and beauty</td>\n",
       "      <td>40.35</td>\n",
       "      <td>1</td>\n",
       "      <td>2.0175</td>\n",
       "      <td>42.3675</td>\n",
       "      <td>1/29/2019</td>\n",
       "      <td>13:46</td>\n",
       "      <td>Ewallet</td>\n",
       "      <td>40.35</td>\n",
       "      <td>4.761905</td>\n",
       "      <td>2.0175</td>\n",
       "      <td>6.2</td>\n",
       "    </tr>\n",
       "    <tr>\n",
       "      <th>996</th>\n",
       "      <td>303-96-2227</td>\n",
       "      <td>B</td>\n",
       "      <td>Mandalay</td>\n",
       "      <td>Normal</td>\n",
       "      <td>Female</td>\n",
       "      <td>Home and lifestyle</td>\n",
       "      <td>97.38</td>\n",
       "      <td>10</td>\n",
       "      <td>48.6900</td>\n",
       "      <td>1022.4900</td>\n",
       "      <td>3/2/2019</td>\n",
       "      <td>17:16</td>\n",
       "      <td>Ewallet</td>\n",
       "      <td>973.80</td>\n",
       "      <td>4.761905</td>\n",
       "      <td>48.6900</td>\n",
       "      <td>4.4</td>\n",
       "    </tr>\n",
       "    <tr>\n",
       "      <th>997</th>\n",
       "      <td>727-02-1313</td>\n",
       "      <td>A</td>\n",
       "      <td>Yangon</td>\n",
       "      <td>Member</td>\n",
       "      <td>Male</td>\n",
       "      <td>Food and beverages</td>\n",
       "      <td>31.84</td>\n",
       "      <td>1</td>\n",
       "      <td>1.5920</td>\n",
       "      <td>33.4320</td>\n",
       "      <td>2/9/2019</td>\n",
       "      <td>13:22</td>\n",
       "      <td>Cash</td>\n",
       "      <td>31.84</td>\n",
       "      <td>4.761905</td>\n",
       "      <td>1.5920</td>\n",
       "      <td>7.7</td>\n",
       "    </tr>\n",
       "    <tr>\n",
       "      <th>998</th>\n",
       "      <td>347-56-2442</td>\n",
       "      <td>A</td>\n",
       "      <td>Yangon</td>\n",
       "      <td>Normal</td>\n",
       "      <td>Male</td>\n",
       "      <td>Home and lifestyle</td>\n",
       "      <td>65.82</td>\n",
       "      <td>1</td>\n",
       "      <td>3.2910</td>\n",
       "      <td>69.1110</td>\n",
       "      <td>2/22/2019</td>\n",
       "      <td>15:33</td>\n",
       "      <td>Cash</td>\n",
       "      <td>65.82</td>\n",
       "      <td>4.761905</td>\n",
       "      <td>3.2910</td>\n",
       "      <td>4.1</td>\n",
       "    </tr>\n",
       "    <tr>\n",
       "      <th>999</th>\n",
       "      <td>849-09-3807</td>\n",
       "      <td>A</td>\n",
       "      <td>Yangon</td>\n",
       "      <td>Member</td>\n",
       "      <td>Female</td>\n",
       "      <td>Fashion accessories</td>\n",
       "      <td>88.34</td>\n",
       "      <td>7</td>\n",
       "      <td>30.9190</td>\n",
       "      <td>649.2990</td>\n",
       "      <td>2/18/2019</td>\n",
       "      <td>13:28</td>\n",
       "      <td>Cash</td>\n",
       "      <td>618.38</td>\n",
       "      <td>4.761905</td>\n",
       "      <td>30.9190</td>\n",
       "      <td>6.6</td>\n",
       "    </tr>\n",
       "  </tbody>\n",
       "</table>\n",
       "</div>"
      ],
      "text/plain": [
       "      Invoice ID Branch       City Customer type  Gender         Product line  \\\n",
       "995  233-67-5758      C  Naypyitaw        Normal    Male    Health and beauty   \n",
       "996  303-96-2227      B   Mandalay        Normal  Female   Home and lifestyle   \n",
       "997  727-02-1313      A     Yangon        Member    Male   Food and beverages   \n",
       "998  347-56-2442      A     Yangon        Normal    Male   Home and lifestyle   \n",
       "999  849-09-3807      A     Yangon        Member  Female  Fashion accessories   \n",
       "\n",
       "     Unit price  Quantity   Tax 5%      Total       Date   Time  Payment  \\\n",
       "995       40.35         1   2.0175    42.3675  1/29/2019  13:46  Ewallet   \n",
       "996       97.38        10  48.6900  1022.4900   3/2/2019  17:16  Ewallet   \n",
       "997       31.84         1   1.5920    33.4320   2/9/2019  13:22     Cash   \n",
       "998       65.82         1   3.2910    69.1110  2/22/2019  15:33     Cash   \n",
       "999       88.34         7  30.9190   649.2990  2/18/2019  13:28     Cash   \n",
       "\n",
       "       cogs  gross margin percentage  gross income  Rating  \n",
       "995   40.35                 4.761905        2.0175     6.2  \n",
       "996  973.80                 4.761905       48.6900     4.4  \n",
       "997   31.84                 4.761905        1.5920     7.7  \n",
       "998   65.82                 4.761905        3.2910     4.1  \n",
       "999  618.38                 4.761905       30.9190     6.6  "
      ]
     },
     "metadata": {},
     "output_type": "display_data"
    }
   ],
   "source": [
    "display(df[:5], df[-5:])"
   ]
  },
  {
   "cell_type": "markdown",
   "id": "33661c15",
   "metadata": {
    "ExecuteTime": {
     "end_time": "2022-11-01T16:51:38.594974Z",
     "start_time": "2022-11-01T16:51:38.591423Z"
    }
   },
   "source": [
    "3.Виведено кількість рядків і кількість колонок в наборі даних."
   ]
  },
  {
   "cell_type": "code",
   "execution_count": 5,
   "id": "bac0cbfc",
   "metadata": {
    "ExecuteTime": {
     "end_time": "2022-11-01T16:54:59.887783Z",
     "start_time": "2022-11-01T16:54:59.884323Z"
    }
   },
   "outputs": [
    {
     "data": {
      "text/plain": [
       "'Набір даних містить 1000 рядків та 17 колонок'"
      ]
     },
     "execution_count": 5,
     "metadata": {},
     "output_type": "execute_result"
    }
   ],
   "source": [
    "f'Набір даних містить {df.shape[0]} рядків та {df.shape[1]} колонок'"
   ]
  },
  {
   "cell_type": "markdown",
   "id": "2d54e0e4",
   "metadata": {},
   "source": [
    "4.Виведено назви колонок у наборі даних разом з їхніми типами."
   ]
  },
  {
   "cell_type": "code",
   "execution_count": 6,
   "id": "513f5a99",
   "metadata": {
    "ExecuteTime": {
     "end_time": "2021-12-08T18:46:42.609601Z",
     "start_time": "2021-12-08T18:46:42.604424Z"
    }
   },
   "outputs": [
    {
     "data": {
      "text/plain": [
       "Invoice ID                  object\n",
       "Branch                      object\n",
       "City                        object\n",
       "Customer type               object\n",
       "Gender                      object\n",
       "Product line                object\n",
       "Unit price                 float64\n",
       "Quantity                     int64\n",
       "Tax 5%                     float64\n",
       "Total                      float64\n",
       "Date                        object\n",
       "Time                        object\n",
       "Payment                     object\n",
       "cogs                       float64\n",
       "gross margin percentage    float64\n",
       "gross income               float64\n",
       "Rating                     float64\n",
       "dtype: object"
      ]
     },
     "execution_count": 6,
     "metadata": {},
     "output_type": "execute_result"
    }
   ],
   "source": [
    "df.dtypes"
   ]
  },
  {
   "cell_type": "markdown",
   "id": "75f38c1e",
   "metadata": {
    "ExecuteTime": {
     "end_time": "2021-09-20T19:46:49.248936Z",
     "start_time": "2021-09-20T19:46:49.245644Z"
    }
   },
   "source": [
    "5.Скільки в даному наборі даних є колонок якого типу (текстового, int, float)?"
   ]
  },
  {
   "cell_type": "code",
   "execution_count": 7,
   "id": "62afdd41",
   "metadata": {
    "ExecuteTime": {
     "end_time": "2022-11-01T17:05:41.960427Z",
     "start_time": "2022-11-01T17:05:41.948447Z"
    }
   },
   "outputs": [
    {
     "data": {
      "text/plain": [
       "object     9\n",
       "float64    7\n",
       "int64      1\n",
       "dtype: int64"
      ]
     },
     "execution_count": 7,
     "metadata": {},
     "output_type": "execute_result"
    }
   ],
   "source": [
    "df.dtypes.value_counts()\n"
   ]
  },
  {
   "cell_type": "markdown",
   "id": "815f9cc0",
   "metadata": {},
   "source": [
    "6.Скільки всього покупок зробили покупці з різним типом клієнта (`Customer type`)?"
   ]
  },
  {
   "cell_type": "code",
   "execution_count": 8,
   "id": "0247e60a",
   "metadata": {
    "ExecuteTime": {
     "end_time": "2022-11-01T17:13:56.892032Z",
     "start_time": "2022-11-01T17:13:56.883250Z"
    }
   },
   "outputs": [
    {
     "data": {
      "text/plain": [
       "Member    501\n",
       "Normal    499\n",
       "Name: Customer type, dtype: int64"
      ]
     },
     "execution_count": 8,
     "metadata": {},
     "output_type": "execute_result"
    }
   ],
   "source": [
    "df['Customer type'].value_counts()"
   ]
  },
  {
   "cell_type": "markdown",
   "id": "f4c8d00f",
   "metadata": {},
   "source": [
    "7.Які є продуктові лінії (колонка 'Product line') в наборі даних?"
   ]
  },
  {
   "cell_type": "code",
   "execution_count": 9,
   "id": "61ae9569",
   "metadata": {
    "ExecuteTime": {
     "end_time": "2021-12-08T18:46:42.649683Z",
     "start_time": "2021-12-08T18:46:42.644615Z"
    }
   },
   "outputs": [
    {
     "data": {
      "text/plain": [
       "array(['Health and beauty', 'Electronic accessories',\n",
       "       'Home and lifestyle', 'Sports and travel', 'Food and beverages',\n",
       "       'Fashion accessories'], dtype=object)"
      ]
     },
     "execution_count": 9,
     "metadata": {},
     "output_type": "execute_result"
    }
   ],
   "source": [
    "df['Product line'].unique()\n"
   ]
  },
  {
   "cell_type": "markdown",
   "id": "7d3dc308",
   "metadata": {
    "ExecuteTime": {
     "end_time": "2021-09-20T19:54:26.232269Z",
     "start_time": "2021-09-20T19:54:26.229253Z"
    }
   },
   "source": [
    "8.Яка середня ціна товару в кожній продуктовій лінії?\n",
    "Ціна товару міститься в колонці `'Unit price'`"
   ]
  },
  {
   "cell_type": "code",
   "execution_count": 10,
   "id": "2a9b94c5",
   "metadata": {
    "ExecuteTime": {
     "end_time": "2021-12-08T18:46:42.661701Z",
     "start_time": "2021-12-08T18:46:42.655591Z"
    }
   },
   "outputs": [
    {
     "data": {
      "text/plain": [
       "Product line\n",
       "Electronic accessories    53.551588\n",
       "Fashion accessories       57.153652\n",
       "Food and beverages        56.008851\n",
       "Health and beauty         54.854474\n",
       "Home and lifestyle        55.316937\n",
       "Sports and travel         56.993253\n",
       "Name: Unit price, dtype: float64"
      ]
     },
     "execution_count": 10,
     "metadata": {},
     "output_type": "execute_result"
    }
   ],
   "source": [
    "df.groupby('Product line')['Unit price'].mean()"
   ]
  },
  {
   "cell_type": "markdown",
   "id": "677ac891",
   "metadata": {
    "ExecuteTime": {
     "end_time": "2021-10-12T18:19:46.908444Z",
     "start_time": "2021-10-12T18:19:46.900526Z"
    }
   },
   "source": [
    "9.З якої покупки (рядок в цих даних) магазин отримав найбільший прибуток (`gross income`)? "
   ]
  },
  {
   "cell_type": "code",
   "execution_count": 11,
   "id": "bc93e677",
   "metadata": {
    "ExecuteTime": {
     "end_time": "2022-11-01T17:24:21.724092Z",
     "start_time": "2022-11-01T17:24:21.721350Z"
    }
   },
   "outputs": [
    {
     "data": {
      "text/html": [
       "<div>\n",
       "<style scoped>\n",
       "    .dataframe tbody tr th:only-of-type {\n",
       "        vertical-align: middle;\n",
       "    }\n",
       "\n",
       "    .dataframe tbody tr th {\n",
       "        vertical-align: top;\n",
       "    }\n",
       "\n",
       "    .dataframe thead th {\n",
       "        text-align: right;\n",
       "    }\n",
       "</style>\n",
       "<table border=\"1\" class=\"dataframe\">\n",
       "  <thead>\n",
       "    <tr style=\"text-align: right;\">\n",
       "      <th></th>\n",
       "      <th>Invoice ID</th>\n",
       "      <th>Branch</th>\n",
       "      <th>City</th>\n",
       "      <th>Customer type</th>\n",
       "      <th>Gender</th>\n",
       "      <th>Product line</th>\n",
       "      <th>Unit price</th>\n",
       "      <th>Quantity</th>\n",
       "      <th>Tax 5%</th>\n",
       "      <th>Total</th>\n",
       "      <th>Date</th>\n",
       "      <th>Time</th>\n",
       "      <th>Payment</th>\n",
       "      <th>cogs</th>\n",
       "      <th>gross margin percentage</th>\n",
       "      <th>gross income</th>\n",
       "      <th>Rating</th>\n",
       "    </tr>\n",
       "  </thead>\n",
       "  <tbody>\n",
       "    <tr>\n",
       "      <th>350</th>\n",
       "      <td>860-79-0874</td>\n",
       "      <td>C</td>\n",
       "      <td>Naypyitaw</td>\n",
       "      <td>Member</td>\n",
       "      <td>Female</td>\n",
       "      <td>Fashion accessories</td>\n",
       "      <td>99.3</td>\n",
       "      <td>10</td>\n",
       "      <td>49.65</td>\n",
       "      <td>1042.65</td>\n",
       "      <td>2/15/2019</td>\n",
       "      <td>14:53</td>\n",
       "      <td>Credit card</td>\n",
       "      <td>993.0</td>\n",
       "      <td>4.761905</td>\n",
       "      <td>49.65</td>\n",
       "      <td>6.6</td>\n",
       "    </tr>\n",
       "  </tbody>\n",
       "</table>\n",
       "</div>"
      ],
      "text/plain": [
       "      Invoice ID Branch       City Customer type  Gender         Product line  \\\n",
       "350  860-79-0874      C  Naypyitaw        Member  Female  Fashion accessories   \n",
       "\n",
       "     Unit price  Quantity  Tax 5%    Total       Date   Time      Payment  \\\n",
       "350        99.3        10   49.65  1042.65  2/15/2019  14:53  Credit card   \n",
       "\n",
       "      cogs  gross margin percentage  gross income  Rating  \n",
       "350  993.0                 4.761905         49.65     6.6  "
      ]
     },
     "execution_count": 11,
     "metadata": {},
     "output_type": "execute_result"
    }
   ],
   "source": [
    "#варіант1\n",
    "df.loc[df['gross income'].isin([df['gross income'].max(),])]"
   ]
  },
  {
   "cell_type": "code",
   "execution_count": 12,
   "id": "b349444a-0e77-4c78-b28b-4b10fd45d134",
   "metadata": {},
   "outputs": [
    {
     "data": {
      "text/html": [
       "<div>\n",
       "<style scoped>\n",
       "    .dataframe tbody tr th:only-of-type {\n",
       "        vertical-align: middle;\n",
       "    }\n",
       "\n",
       "    .dataframe tbody tr th {\n",
       "        vertical-align: top;\n",
       "    }\n",
       "\n",
       "    .dataframe thead th {\n",
       "        text-align: right;\n",
       "    }\n",
       "</style>\n",
       "<table border=\"1\" class=\"dataframe\">\n",
       "  <thead>\n",
       "    <tr style=\"text-align: right;\">\n",
       "      <th></th>\n",
       "      <th>Invoice ID</th>\n",
       "      <th>Branch</th>\n",
       "      <th>City</th>\n",
       "      <th>Customer type</th>\n",
       "      <th>Gender</th>\n",
       "      <th>Product line</th>\n",
       "      <th>Unit price</th>\n",
       "      <th>Quantity</th>\n",
       "      <th>Tax 5%</th>\n",
       "      <th>Total</th>\n",
       "      <th>Date</th>\n",
       "      <th>Time</th>\n",
       "      <th>Payment</th>\n",
       "      <th>cogs</th>\n",
       "      <th>gross margin percentage</th>\n",
       "      <th>gross income</th>\n",
       "      <th>Rating</th>\n",
       "    </tr>\n",
       "  </thead>\n",
       "  <tbody>\n",
       "    <tr>\n",
       "      <th>350</th>\n",
       "      <td>860-79-0874</td>\n",
       "      <td>C</td>\n",
       "      <td>Naypyitaw</td>\n",
       "      <td>Member</td>\n",
       "      <td>Female</td>\n",
       "      <td>Fashion accessories</td>\n",
       "      <td>99.3</td>\n",
       "      <td>10</td>\n",
       "      <td>49.65</td>\n",
       "      <td>1042.65</td>\n",
       "      <td>2/15/2019</td>\n",
       "      <td>14:53</td>\n",
       "      <td>Credit card</td>\n",
       "      <td>993.0</td>\n",
       "      <td>4.761905</td>\n",
       "      <td>49.65</td>\n",
       "      <td>6.6</td>\n",
       "    </tr>\n",
       "  </tbody>\n",
       "</table>\n",
       "</div>"
      ],
      "text/plain": [
       "      Invoice ID Branch       City Customer type  Gender         Product line  \\\n",
       "350  860-79-0874      C  Naypyitaw        Member  Female  Fashion accessories   \n",
       "\n",
       "     Unit price  Quantity  Tax 5%    Total       Date   Time      Payment  \\\n",
       "350        99.3        10   49.65  1042.65  2/15/2019  14:53  Credit card   \n",
       "\n",
       "      cogs  gross margin percentage  gross income  Rating  \n",
       "350  993.0                 4.761905         49.65     6.6  "
      ]
     },
     "execution_count": 12,
     "metadata": {},
     "output_type": "execute_result"
    }
   ],
   "source": [
    "#варіант2\n",
    "df.loc[df['gross income'] == df['gross income'].max()]"
   ]
  },
  {
   "cell_type": "code",
   "execution_count": 13,
   "id": "b879f758-7eaa-4521-8e05-bdb7e7730086",
   "metadata": {},
   "outputs": [
    {
     "data": {
      "text/html": [
       "<div>\n",
       "<style scoped>\n",
       "    .dataframe tbody tr th:only-of-type {\n",
       "        vertical-align: middle;\n",
       "    }\n",
       "\n",
       "    .dataframe tbody tr th {\n",
       "        vertical-align: top;\n",
       "    }\n",
       "\n",
       "    .dataframe thead th {\n",
       "        text-align: right;\n",
       "    }\n",
       "</style>\n",
       "<table border=\"1\" class=\"dataframe\">\n",
       "  <thead>\n",
       "    <tr style=\"text-align: right;\">\n",
       "      <th></th>\n",
       "      <th>Invoice ID</th>\n",
       "      <th>Branch</th>\n",
       "      <th>City</th>\n",
       "      <th>Customer type</th>\n",
       "      <th>Gender</th>\n",
       "      <th>Product line</th>\n",
       "      <th>Unit price</th>\n",
       "      <th>Quantity</th>\n",
       "      <th>Tax 5%</th>\n",
       "      <th>Total</th>\n",
       "      <th>Date</th>\n",
       "      <th>Time</th>\n",
       "      <th>Payment</th>\n",
       "      <th>cogs</th>\n",
       "      <th>gross margin percentage</th>\n",
       "      <th>gross income</th>\n",
       "      <th>Rating</th>\n",
       "    </tr>\n",
       "  </thead>\n",
       "  <tbody>\n",
       "    <tr>\n",
       "      <th>350</th>\n",
       "      <td>860-79-0874</td>\n",
       "      <td>C</td>\n",
       "      <td>Naypyitaw</td>\n",
       "      <td>Member</td>\n",
       "      <td>Female</td>\n",
       "      <td>Fashion accessories</td>\n",
       "      <td>99.3</td>\n",
       "      <td>10</td>\n",
       "      <td>49.65</td>\n",
       "      <td>1042.65</td>\n",
       "      <td>2/15/2019</td>\n",
       "      <td>14:53</td>\n",
       "      <td>Credit card</td>\n",
       "      <td>993.0</td>\n",
       "      <td>4.761905</td>\n",
       "      <td>49.65</td>\n",
       "      <td>6.6</td>\n",
       "    </tr>\n",
       "  </tbody>\n",
       "</table>\n",
       "</div>"
      ],
      "text/plain": [
       "      Invoice ID Branch       City Customer type  Gender         Product line  \\\n",
       "350  860-79-0874      C  Naypyitaw        Member  Female  Fashion accessories   \n",
       "\n",
       "     Unit price  Quantity  Tax 5%    Total       Date   Time      Payment  \\\n",
       "350        99.3        10   49.65  1042.65  2/15/2019  14:53  Credit card   \n",
       "\n",
       "      cogs  gross margin percentage  gross income  Rating  \n",
       "350  993.0                 4.761905         49.65     6.6  "
      ]
     },
     "execution_count": 13,
     "metadata": {},
     "output_type": "execute_result"
    }
   ],
   "source": [
    "#варіант3\n",
    "df[df['gross income'] == df['gross income'].max()]"
   ]
  },
  {
   "cell_type": "code",
   "execution_count": 131,
   "id": "592beea9-619a-4267-a6ec-e467c14271b1",
   "metadata": {},
   "outputs": [
    {
     "data": {
      "text/plain": [
       "Invoice ID                         860-79-0874\n",
       "Branch                                       C\n",
       "City                                 Naypyitaw\n",
       "Customer type                           Member\n",
       "Gender                                  Female\n",
       "Product line               Fashion accessories\n",
       "Unit price                                99.3\n",
       "Quantity                                    10\n",
       "Tax 5%                                   49.65\n",
       "Total                                  1042.65\n",
       "Date                                 2/15/2019\n",
       "Time                                     14:53\n",
       "Hour                                        14\n",
       "Payment                            Credit card\n",
       "cogs                                     993.0\n",
       "gross margin percentage               4.761905\n",
       "gross income                             49.65\n",
       "Rating                                     6.6\n",
       "Name: 350, dtype: object"
      ]
     },
     "execution_count": 131,
     "metadata": {},
     "output_type": "execute_result"
    }
   ],
   "source": [
    "#варіант4\n",
    "res = df['gross income'].idxmax()\n",
    "df.loc[res]"
   ]
  },
  {
   "cell_type": "markdown",
   "id": "28638363",
   "metadata": {},
   "source": [
    "10.А який філіал магазину ('Branch') є найприбутковішим? Та в якому місті він знайходиться? "
   ]
  },
  {
   "cell_type": "code",
   "execution_count": 53,
   "id": "046ba42e-4109-4640-8f33-d68ebd7a9902",
   "metadata": {},
   "outputs": [
    {
     "data": {
      "text/plain": [
       "'Філіал \"C\" є найприбутковішим. Цей філіал знаходиться в місті Naypyitaw.'"
      ]
     },
     "execution_count": 53,
     "metadata": {},
     "output_type": "execute_result"
    }
   ],
   "source": [
    "df2 = df.groupby(['Branch', 'City']).agg('gross income').sum()\n",
    "fil = df2.idxmax()\n",
    "f'Філіал \"{fil[0]}\" є найприбутковішим. Цей філіал знаходиться в місті {fil[1]}.'"
   ]
  },
  {
   "cell_type": "markdown",
   "id": "cdcab0d9",
   "metadata": {},
   "source": [
    "11.Перевірено програмно, чи відрізняється маржа ('gross margin percentage') для різних покупок в магазині? "
   ]
  },
  {
   "cell_type": "code",
   "execution_count": 63,
   "id": "779eee90",
   "metadata": {
    "ExecuteTime": {
     "end_time": "2022-11-01T17:32:47.532241Z",
     "start_time": "2022-11-01T17:32:47.525715Z"
    }
   },
   "outputs": [
    {
     "name": "stdout",
     "output_type": "stream",
     "text": [
      "На всі покупки однакові маржа\n"
     ]
    }
   ],
   "source": [
    "#тут можна замість len --> df['gross margin percentage'].nunique()\n",
    "if len(df['gross margin percentage'].unique()) == 1:\n",
    "    print(\"На всі покупки однакові маржа\")\n",
    "else:\n",
    "    print(\"Маржа відрізняється для різних покупок\")"
   ]
  },
  {
   "cell_type": "markdown",
   "id": "6dec795f",
   "metadata": {},
   "source": [
    "12.В якому філіалі магазину ('Branch') купують найбільше електронних аксесуарів ('Electronic accessories')? "
   ]
  },
  {
   "cell_type": "code",
   "execution_count": 17,
   "id": "cadbd0d1",
   "metadata": {
    "ExecuteTime": {
     "end_time": "2022-11-01T17:37:46.479624Z",
     "start_time": "2022-11-01T17:37:46.464642Z"
    }
   },
   "outputs": [
    {
     "data": {
      "text/html": [
       "<div>\n",
       "<style scoped>\n",
       "    .dataframe tbody tr th:only-of-type {\n",
       "        vertical-align: middle;\n",
       "    }\n",
       "\n",
       "    .dataframe tbody tr th {\n",
       "        vertical-align: top;\n",
       "    }\n",
       "\n",
       "    .dataframe thead tr th {\n",
       "        text-align: left;\n",
       "    }\n",
       "\n",
       "    .dataframe thead tr:last-of-type th {\n",
       "        text-align: right;\n",
       "    }\n",
       "</style>\n",
       "<table border=\"1\" class=\"dataframe\">\n",
       "  <thead>\n",
       "    <tr>\n",
       "      <th></th>\n",
       "      <th colspan=\"6\" halign=\"left\">Quantity</th>\n",
       "    </tr>\n",
       "    <tr>\n",
       "      <th>Product line</th>\n",
       "      <th>Electronic accessories</th>\n",
       "      <th>Fashion accessories</th>\n",
       "      <th>Food and beverages</th>\n",
       "      <th>Health and beauty</th>\n",
       "      <th>Home and lifestyle</th>\n",
       "      <th>Sports and travel</th>\n",
       "    </tr>\n",
       "    <tr>\n",
       "      <th>Branch</th>\n",
       "      <th></th>\n",
       "      <th></th>\n",
       "      <th></th>\n",
       "      <th></th>\n",
       "      <th></th>\n",
       "      <th></th>\n",
       "    </tr>\n",
       "  </thead>\n",
       "  <tbody>\n",
       "    <tr>\n",
       "      <th>A</th>\n",
       "      <td>60</td>\n",
       "      <td>51</td>\n",
       "      <td>58</td>\n",
       "      <td>47</td>\n",
       "      <td>65</td>\n",
       "      <td>59</td>\n",
       "    </tr>\n",
       "    <tr>\n",
       "      <th>B</th>\n",
       "      <td>55</td>\n",
       "      <td>62</td>\n",
       "      <td>50</td>\n",
       "      <td>53</td>\n",
       "      <td>50</td>\n",
       "      <td>62</td>\n",
       "    </tr>\n",
       "    <tr>\n",
       "      <th>C</th>\n",
       "      <td>55</td>\n",
       "      <td>65</td>\n",
       "      <td>66</td>\n",
       "      <td>52</td>\n",
       "      <td>45</td>\n",
       "      <td>45</td>\n",
       "    </tr>\n",
       "  </tbody>\n",
       "</table>\n",
       "</div>"
      ],
      "text/plain": [
       "                           Quantity                                         \\\n",
       "Product line Electronic accessories Fashion accessories Food and beverages   \n",
       "Branch                                                                       \n",
       "A                                60                  51                 58   \n",
       "B                                55                  62                 50   \n",
       "C                                55                  65                 66   \n",
       "\n",
       "                                                                     \n",
       "Product line Health and beauty Home and lifestyle Sports and travel  \n",
       "Branch                                                               \n",
       "A                           47                 65                59  \n",
       "B                           53                 50                62  \n",
       "C                           52                 45                45  "
      ]
     },
     "execution_count": 17,
     "metadata": {},
     "output_type": "execute_result"
    }
   ],
   "source": [
    "#щоб порахувати кількіть рядків не обов'язково обирати по якому рядку рахувати, можна два аргументи і aggfunc = 'size'\n",
    "pivot= df.pivot_table(index = ['Branch'], columns = ['Product line'], values = ['Quantity'], aggfunc = 'count')\n",
    "pivot"
   ]
  },
  {
   "cell_type": "code",
   "execution_count": 69,
   "id": "ea004dfb-dcc8-4e58-985e-ea8cc873f196",
   "metadata": {},
   "outputs": [
    {
     "data": {
      "text/html": [
       "<div>\n",
       "<style scoped>\n",
       "    .dataframe tbody tr th:only-of-type {\n",
       "        vertical-align: middle;\n",
       "    }\n",
       "\n",
       "    .dataframe tbody tr th {\n",
       "        vertical-align: top;\n",
       "    }\n",
       "\n",
       "    .dataframe thead tr th {\n",
       "        text-align: left;\n",
       "    }\n",
       "\n",
       "    .dataframe thead tr:last-of-type th {\n",
       "        text-align: right;\n",
       "    }\n",
       "</style>\n",
       "<table border=\"1\" class=\"dataframe\">\n",
       "  <thead>\n",
       "    <tr>\n",
       "      <th></th>\n",
       "      <th colspan=\"6\" halign=\"left\">Quantity</th>\n",
       "    </tr>\n",
       "    <tr>\n",
       "      <th>Product line</th>\n",
       "      <th>Electronic accessories</th>\n",
       "      <th>Fashion accessories</th>\n",
       "      <th>Food and beverages</th>\n",
       "      <th>Health and beauty</th>\n",
       "      <th>Home and lifestyle</th>\n",
       "      <th>Sports and travel</th>\n",
       "    </tr>\n",
       "    <tr>\n",
       "      <th>Branch</th>\n",
       "      <th></th>\n",
       "      <th></th>\n",
       "      <th></th>\n",
       "      <th></th>\n",
       "      <th></th>\n",
       "      <th></th>\n",
       "    </tr>\n",
       "  </thead>\n",
       "  <tbody>\n",
       "    <tr>\n",
       "      <th>A</th>\n",
       "      <td>322</td>\n",
       "      <td>263</td>\n",
       "      <td>313</td>\n",
       "      <td>257</td>\n",
       "      <td>371</td>\n",
       "      <td>333</td>\n",
       "    </tr>\n",
       "    <tr>\n",
       "      <th>B</th>\n",
       "      <td>316</td>\n",
       "      <td>297</td>\n",
       "      <td>270</td>\n",
       "      <td>320</td>\n",
       "      <td>295</td>\n",
       "      <td>322</td>\n",
       "    </tr>\n",
       "    <tr>\n",
       "      <th>C</th>\n",
       "      <td>333</td>\n",
       "      <td>342</td>\n",
       "      <td>369</td>\n",
       "      <td>277</td>\n",
       "      <td>245</td>\n",
       "      <td>265</td>\n",
       "    </tr>\n",
       "  </tbody>\n",
       "</table>\n",
       "</div>"
      ],
      "text/plain": [
       "                           Quantity                                         \\\n",
       "Product line Electronic accessories Fashion accessories Food and beverages   \n",
       "Branch                                                                       \n",
       "A                               322                 263                313   \n",
       "B                               316                 297                270   \n",
       "C                               333                 342                369   \n",
       "\n",
       "                                                                     \n",
       "Product line Health and beauty Home and lifestyle Sports and travel  \n",
       "Branch                                                               \n",
       "A                          257                371               333  \n",
       "B                          320                295               322  \n",
       "C                          277                245               265  "
      ]
     },
     "execution_count": 69,
     "metadata": {},
     "output_type": "execute_result"
    }
   ],
   "source": [
    "pivot2= df.pivot_table(index = ['Branch'], columns = ['Product line'], values = ['Quantity'], aggfunc = 'sum')\n",
    "pivot2"
   ]
  },
  {
   "cell_type": "markdown",
   "id": "ecc5843b-ffb8-4222-8263-42d25fd2b0e0",
   "metadata": {},
   "source": [
    "> ВИСНОВКИ: За кількістю покупок найбільше електронних аксесуарів купують у філіалі А, але за кількістю товару найбільше придбано у філіалі С. "
   ]
  },
  {
   "cell_type": "markdown",
   "id": "acc43aab",
   "metadata": {},
   "source": [
    "13.О якій годині найбільше було покупок. Дивлячись на найбільш популярні для покупок години, які гіпотези про поведінку користувачів можна зробити? Чому вони найчастіше купують саме в цей час?"
   ]
  },
  {
   "cell_type": "code",
   "execution_count": 127,
   "id": "922396e9",
   "metadata": {
    "ExecuteTime": {
     "end_time": "2022-11-01T17:44:22.492095Z",
     "start_time": "2022-11-01T17:44:22.486972Z"
    }
   },
   "outputs": [
    {
     "data": {
      "text/plain": [
       "0    13\n",
       "1    10\n",
       "2    13\n",
       "3    20\n",
       "4    10\n",
       "Name: Hour, dtype: int64"
      ]
     },
     "metadata": {},
     "output_type": "display_data"
    },
    {
     "data": {
      "text/plain": [
       "dtype('int64')"
      ]
     },
     "metadata": {},
     "output_type": "display_data"
    },
    {
     "data": {
      "text/plain": [
       "Hour\n",
       "10    101\n",
       "11     90\n",
       "12     89\n",
       "13    103\n",
       "14     83\n",
       "15    102\n",
       "16     77\n",
       "17     74\n",
       "18     93\n",
       "19    113\n",
       "20     75\n",
       "Name: Hour, dtype: int64"
      ]
     },
     "execution_count": 127,
     "metadata": {},
     "output_type": "execute_result"
    }
   ],
   "source": [
    "#можна створювати колонку через df['Hour']\n",
    "df.columns.get_loc('Time')\n",
    "def func_hour(x):\n",
    "    return int(x[:2])\n",
    "#додала колонку\n",
    "df.insert(loc=12, column=\"Hour\", value=df.Time.apply(lambda x: func_hour(x))) \n",
    "\n",
    "display(df.Hour.head())\n",
    "display(df.Hour.dtype)\n",
    "df.Hour.value_counts()\n",
    "df.groupby('Hour').Hour.count()\n"
   ]
  },
  {
   "cell_type": "markdown",
   "id": "a677f4ca-14a9-4d45-8c5d-df98c69c4d9b",
   "metadata": {},
   "source": [
    "> ВИСНОВКИ: Найбільше покупок спостерігається о 10, 13, 15, 19 годині. \n",
    "Так як часу більш раннього за 10 годину немає, то можна припустити, що це час відкриття супермаркету, тому встригає збиратись черга.\n",
    "О 13 годині зазвичай обідня перерва у працівників і у вільний час вони можуть піти за покупками, а близько 19 години можуть робити покупки працівники вже після робочого часу. А о 15, наприклад, може бути акційна пропозиція по типу \"Щаслива година\" (також і по кожній з названих годин)."
   ]
  },
  {
   "cell_type": "markdown",
   "id": "398ef09f-b9a0-473c-8ebf-69c5102a6d1d",
   "metadata": {},
   "source": [
    "14. В якій продуктовій лінії більше покупців жінок, а я в якій чоловіків?"
   ]
  },
  {
   "cell_type": "code",
   "execution_count": 7,
   "id": "a97abf50-2efb-4d5d-92af-1f58a11dbd4c",
   "metadata": {},
   "outputs": [
    {
     "data": {
      "text/html": [
       "<style type=\"text/css\">\n",
       "#T_cff63_row0_col0, #T_cff63_row0_col1, #T_cff63_row0_col2, #T_cff63_row0_col4, #T_cff63_row0_col5, #T_cff63_row1_col3 {\n",
       "  background-color: #023858;\n",
       "  color: #f1f1f1;\n",
       "}\n",
       "#T_cff63_row0_col3, #T_cff63_row1_col0, #T_cff63_row1_col1, #T_cff63_row1_col2, #T_cff63_row1_col4, #T_cff63_row1_col5 {\n",
       "  background-color: #fff7fb;\n",
       "  color: #000000;\n",
       "}\n",
       "</style>\n",
       "<table id=\"T_cff63\">\n",
       "  <thead>\n",
       "    <tr>\n",
       "      <th class=\"blank level0\" >&nbsp;</th>\n",
       "      <th id=\"T_cff63_level0_col0\" class=\"col_heading level0 col0\" colspan=\"6\">Quantity</th>\n",
       "    </tr>\n",
       "    <tr>\n",
       "      <th class=\"index_name level1\" >Product line</th>\n",
       "      <th id=\"T_cff63_level1_col0\" class=\"col_heading level1 col0\" >Electronic accessories</th>\n",
       "      <th id=\"T_cff63_level1_col1\" class=\"col_heading level1 col1\" >Fashion accessories</th>\n",
       "      <th id=\"T_cff63_level1_col2\" class=\"col_heading level1 col2\" >Food and beverages</th>\n",
       "      <th id=\"T_cff63_level1_col3\" class=\"col_heading level1 col3\" >Health and beauty</th>\n",
       "      <th id=\"T_cff63_level1_col4\" class=\"col_heading level1 col4\" >Home and lifestyle</th>\n",
       "      <th id=\"T_cff63_level1_col5\" class=\"col_heading level1 col5\" >Sports and travel</th>\n",
       "    </tr>\n",
       "    <tr>\n",
       "      <th class=\"index_name level0\" >Gender</th>\n",
       "      <th class=\"blank col0\" >&nbsp;</th>\n",
       "      <th class=\"blank col1\" >&nbsp;</th>\n",
       "      <th class=\"blank col2\" >&nbsp;</th>\n",
       "      <th class=\"blank col3\" >&nbsp;</th>\n",
       "      <th class=\"blank col4\" >&nbsp;</th>\n",
       "      <th class=\"blank col5\" >&nbsp;</th>\n",
       "    </tr>\n",
       "  </thead>\n",
       "  <tbody>\n",
       "    <tr>\n",
       "      <th id=\"T_cff63_level0_row0\" class=\"row_heading level0 row0\" >Female</th>\n",
       "      <td id=\"T_cff63_row0_col0\" class=\"data row0 col0\" >488</td>\n",
       "      <td id=\"T_cff63_row0_col1\" class=\"data row0 col1\" >530</td>\n",
       "      <td id=\"T_cff63_row0_col2\" class=\"data row0 col2\" >514</td>\n",
       "      <td id=\"T_cff63_row0_col3\" class=\"data row0 col3\" >343</td>\n",
       "      <td id=\"T_cff63_row0_col4\" class=\"data row0 col4\" >498</td>\n",
       "      <td id=\"T_cff63_row0_col5\" class=\"data row0 col5\" >496</td>\n",
       "    </tr>\n",
       "    <tr>\n",
       "      <th id=\"T_cff63_level0_row1\" class=\"row_heading level0 row1\" >Male</th>\n",
       "      <td id=\"T_cff63_row1_col0\" class=\"data row1 col0\" >483</td>\n",
       "      <td id=\"T_cff63_row1_col1\" class=\"data row1 col1\" >372</td>\n",
       "      <td id=\"T_cff63_row1_col2\" class=\"data row1 col2\" >438</td>\n",
       "      <td id=\"T_cff63_row1_col3\" class=\"data row1 col3\" >511</td>\n",
       "      <td id=\"T_cff63_row1_col4\" class=\"data row1 col4\" >413</td>\n",
       "      <td id=\"T_cff63_row1_col5\" class=\"data row1 col5\" >424</td>\n",
       "    </tr>\n",
       "  </tbody>\n",
       "</table>\n"
      ],
      "text/plain": [
       "<pandas.io.formats.style.Styler at 0x82a3101550>"
      ]
     },
     "execution_count": 7,
     "metadata": {},
     "output_type": "execute_result"
    }
   ],
   "source": [
    "pivot3= df.pivot_table(index = ['Gender'], columns = ['Product line'], values = ['Quantity'], aggfunc = 'sum')\n",
    "pivot3.style.background_gradient(axis = 0)"
   ]
  },
  {
   "cell_type": "markdown",
   "id": "90cd6513-f878-4266-b3f6-f3e61b7e6e0e",
   "metadata": {},
   "source": [
    "> ВИСНОВКИ: У розрізі електронних аксесуарів чоловіки та жінки купують майже однаково активно. Товарів моди очікувано більше купують жінки. Продуктові лінії їжі, товарів для дому та спорту також більш популярні серед жінок. Чоловіки значно переважають у розрізі лінії \"Здоров'я та краса'. Наведені дані допоможуть бізнесу розуміти на який сегмент покупців згідно гендеру орієнтуватись при закупівлі товару в певну продуктову лінію."
   ]
  },
  {
   "cell_type": "markdown",
   "id": "e9024e35-42c8-40a3-b931-7675450c79f4",
   "metadata": {},
   "source": [
    "15) Який спосіб оплати найбільш частіше використовують покупці?"
   ]
  },
  {
   "cell_type": "code",
   "execution_count": 22,
   "id": "6a5d801a-b82e-4286-900e-7b49005fd5a4",
   "metadata": {},
   "outputs": [
    {
     "data": {
      "image/png": "[encoded data removed]",
      "text/plain": [
       "<Figure size 432x288 with 1 Axes>"
      ]
     },
     "metadata": {},
     "output_type": "display_data"
    }
   ],
   "source": [
    "import matplotlib.pyplot as plt\n",
    "import seaborn as sns\n",
    "\n",
    "df3 = df.groupby('Payment')['Payment'].count()\n",
    "colors = sns.color_palette('pastel')[ 0:5 ]\n",
    "labels = list(df['Payment'].unique())\n",
    "\n",
    "plt.pie(df3, labels = labels, colors = colors, autopct='%.0f%%')\n",
    "plt.show()"
   ]
  },
  {
   "cell_type": "markdown",
   "id": "85289f6f-2140-49e2-a640-9f76b569ac71",
   "metadata": {},
   "source": [
    "> ВИСНОВКИ: За способами оплати в супермаркеті три види: готівка, банківська карта та електронний гаманець. За співвідношенням вони займають майже рівні частки, але якщо розглядати форму оплати, то безготівкова становить близько 68%. Для бізнесу - це може бути стимулом для встановлення кас самообслуговування з безготівковою оплатою або мобільних додатків для самостійних покупок, щоб стимулювати безготівковий оборот."
   ]
  },
  {
   "cell_type": "markdown",
   "id": "08c8179d-c004-40f5-bed8-42c45a3dda7f",
   "metadata": {},
   "source": [
    "16) В якому місяці найбільша виручка у мережі супермаркетів?"
   ]
  },
  {
   "cell_type": "code",
   "execution_count": 47,
   "id": "682f9be5-a95a-4cfb-af95-f6daf80a4cba",
   "metadata": {},
   "outputs": [
    {
     "data": {
      "text/plain": [
       "Month\n",
       "1    116291.868\n",
       "2     97219.374\n",
       "3    109455.507\n",
       "Name: Total, dtype: float64"
      ]
     },
     "execution_count": 47,
     "metadata": {},
     "output_type": "execute_result"
    },
    {
     "data": {
      "image/png": "[encoded data removed]",
      "text/plain": [
       "<Figure size 1080x288 with 1 Axes>"
      ]
     },
     "metadata": {
      "needs_background": "light"
     },
     "output_type": "display_data"
    }
   ],
   "source": [
    "def func_month(x):\n",
    "    x = x.split(\"/\")\n",
    "    return int(x[0])\n",
    "\n",
    "\n",
    "#додала колонку\n",
    "#df.insert(loc=11, column=\"Month\", value=df.Date.apply(lambda x: func_month(x))) \n",
    "\n",
    "plt.figure(figsize = (15,4))\n",
    "df.groupby('Month')['Total'].sum().plot.bar()\n",
    "df.groupby('Month')['Total'].sum()"
   ]
  },
  {
   "cell_type": "markdown",
   "id": "6764bc7f-da1a-4fd3-b34f-15273e21c54a",
   "metadata": {},
   "source": [
    "> ВИСНОВКИ: Проаналізовано три місяці (квартал) роботи мережі супермаркетів. Як видно на графіку, то найбільша виручка у січні, у лютому спад, а у березні зростання. Така тенденція можливо пов'язана зі святами у січні та березні.\n",
    "Спад у лютому пов'язаний з меншою кількістю днів, адже якщо зробити розрахунок на 31 день 97219.38/28*31 = 107635,32 (грош.од.), то виручка вже майже на рівні з іншими місяцями кварталу."
   ]
  }
 ],
 "metadata": {
  "kernelspec": {
   "display_name": "Python 3 (ipykernel)",
   "language": "python",
   "name": "python3"
  },
  "language_info": {
   "codemirror_mode": {
    "name": "ipython",
    "version": 3
   },
   "file_extension": ".py",
   "mimetype": "text/x-python",
   "name": "python",
   "nbconvert_exporter": "python",
   "pygments_lexer": "ipython3",
   "version": "3.9.12"
  },
  "toc": {
   "base_numbering": 1,
   "nav_menu": {},
   "number_sections": true,
   "sideBar": true,
   "skip_h1_title": false,
   "title_cell": "Table of Contents",
   "title_sidebar": "Contents",
   "toc_cell": false,
   "toc_position": {},
   "toc_section_display": true,
   "toc_window_display": false
  },
  "vscode": {
   "interpreter": {
    "hash": "a6511e6b41b26ba86cca7483749cf4dd15bf137a2672e550741a656e19bba82e"
   }
  }
 },
 "nbformat": 4,
 "nbformat_minor": 5
}
